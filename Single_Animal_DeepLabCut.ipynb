{
  "cells": [
    {
      "cell_type": "markdown",
      "source": [
        "# <u>***This notebook assumes you have already created a DLC project folder, labeled frames, and uploaded this project folder to your Google Drive already.***</u>\n",
        "You can find all the docs how to do this here: https://deeplabcut.github.io/DeepLabCut"
      ],
      "metadata": {
        "id": "fs4WIGhLy9Zu"
      }
    },
    {
      "cell_type": "markdown",
      "metadata": {
        "id": "RK255E7YoEIt"
      },
      "source": [
        "![alt text](https://images.squarespace-cdn.com/content/v1/57f6d51c9f74566f55ecf271/1628180434489-T0RIWEJJU0FJVOT6FNVD/maDLC.png?format=200w)"
      ]
    },
    {
      "cell_type": "markdown",
      "source": [
        "# **This notebook demonstrates how to run DeepLabCut with <u>Google Colab</u> to train a model and analyze videos for a single animal tracking project.**\n",
        "\n",
        "- Create a single-animal training set\n",
        "- Train a network\n",
        "- Analyze videos\n",
        "- Analyze new videos\n",
        "\n",
        "*This notebook is loosely based off of the outdated multi-animal GoogleColab tutorial notebook on the DeepLabCut website. It has been edited and updated with fixes to make it work.*"
      ],
      "metadata": {
        "id": "XnvklBPNy0Lm"
      }
    },
    {
      "cell_type": "markdown",
      "source": [
        "# <u> **BEFORE RUNNING ANY CELLS BELOW** </u>"
      ],
      "metadata": {
        "id": "h5cmCbzq03bU"
      }
    },
    {
      "cell_type": "markdown",
      "source": [
        "# <u> **Step 1. Make video subfolder containing your videos.** </u>\n",
        "\n",
        "### ***Move all your videos in your DeepLabCut project folder to their own folder within this videos folder. Call this folder whatever you want as we will use this name later. A suggestion is \"Run1\"***\n",
        "\n",
        "### If you chose \"Run1\" for folder name the resulting folder containing all your videos would be \"videos/Run1/\" within your project folder on Google Drive."
      ],
      "metadata": {
        "id": "7Y7MVEkbJkjA"
      }
    },
    {
      "cell_type": "markdown",
      "source": [
        "# <u> **Step 2. Connect to GPU runtime in Google Colab** </u>\n",
        "## **In the toolbar above click \"Connect GPU\"**"
      ],
      "metadata": {
        "id": "_KzmWk1l1J1I"
      }
    },
    {
      "cell_type": "markdown",
      "source": [
        "# <u> **Step 3. Install DeepLabCut** </u>\n",
        "\n",
        "### **This next code cell below installs all the dependencies needed to run DeepLabCut in Google Colab as well as DeepLabCut itself (no GUI available in Colab).**\n",
        "\n",
        "### ***This takes about 15-20 minutes to install and set up everything before any other cells below can be ran***"
      ],
      "metadata": {
        "id": "5lnE2fZdsSVX"
      }
    },
    {
      "cell_type": "code",
      "source": [
        "# Upgrade python package manager\n",
        "!pip3 install --upgrade pip\n",
        "\n",
        "# Install deeplabcut\n",
        "!pip3 install -qqq deeplabcut\n",
        "%reload_ext numpy\n",
        "%reload_ext scipy\n",
        "%reload_ext matplotlib\n",
        "%reload_ext mpl_toolkits\n",
        "\n",
        "# Install deeplabcut google colab specific things\n",
        "!pip3 install -qqq --upgrade scikit-image\n",
        "!pip3 install -qqq pickle5\n",
        "!pip3 install -qqq torch\n",
        "\n",
        "# this is so the next line when installing updated cuda doesn't ask for keyboard interaction\n",
        "!DEBIAN_FRONTEND=noninteractive apt-get install keyboard-configuration\n",
        "\n",
        "# Update cuda to latest version\n",
        "!wget https://developer.download.nvidia.com/compute/cuda/repos/ubuntu2204/x86_64/cuda-keyring_1.1-1_all.deb\n",
        "!sudo dpkg -i cuda-keyring_1.1-1_all.deb\n",
        "!sudo apt-get update\n",
        "!sudo apt-get -y install cuda\n",
        "\n",
        "# This is just to check what version of cuda we have now to make sure it installed correctly\n",
        "#!nvcc --version\n",
        "\n",
        "# Add newly installed cuda version to PATH\n",
        "!export PATH=/usr/local/cuda-12.4/bin${PATH:+:${PATH}}\n",
        "!export LD_LIBRARY_PATH=/usr/local/cuda-12.4/lib64:$LD_LIBRARY_PATH\n",
        "!export LD_LIBRARY_PATH=/usr/local/cuda-12.4/include:$LD_LIBRARY_PATH\n",
        "!export LD_LIBRARY_PATH=$LD_LIBRARY_PATH:/usr/local/cuda/extras/CUPTI/lib64\n",
        "\n",
        "# Downgrade tensorflow to older version otherwise deeplabcut.train_network() won't work later\n",
        "!pip3 uninstall -y -qqq tensorflow\n",
        "!pip3 install -qqq tensorflow==2.8.0\n",
        "\n",
        "# Install other dependency packages\n",
        "!pip3 install -qqq segmentation-models\n",
        "!pip3 install -qqq pycocotools\n",
        "!pip3 install -qqq opencv-python-headless"
      ],
      "metadata": {
        "id": "9Qbl5BWjrxWw"
      },
      "execution_count": null,
      "outputs": []
    },
    {
      "cell_type": "markdown",
      "source": [
        "# <u> **Step 4. Link Google Drive to Google Colab** </u>\n",
        "\n",
        "## **Now, let's link to your Google Drive containing your DeepLabCut project folder. Run this next cell and follow the authorization instructions.**"
      ],
      "metadata": {
        "id": "VA80IgUTte1d"
      }
    },
    {
      "cell_type": "code",
      "source": [
        "from google.colab import drive\n",
        "drive.mount('/content/drive', force_remount = True)"
      ],
      "metadata": {
        "id": "zpu9qi6xtku3"
      },
      "execution_count": null,
      "outputs": []
    },
    {
      "cell_type": "markdown",
      "source": [
        "# <u> **Step 5. Import DeepLabCut and other python modules we'll need.** </u>"
      ],
      "metadata": {
        "id": "eFCzqfQ31_1X"
      }
    },
    {
      "cell_type": "code",
      "execution_count": null,
      "metadata": {
        "execution": {
          "iopub.execute_input": "2024-05-10T05:22:19.334344Z",
          "iopub.status.busy": "2024-05-10T05:22:19.334182Z",
          "iopub.status.idle": "2024-05-10T05:22:22.357733Z",
          "shell.execute_reply": "2024-05-10T05:22:22.357204Z",
          "shell.execute_reply.started": "2024-05-10T05:22:19.334333Z"
        },
        "id": "oTwAcbq2-FZz"
      },
      "outputs": [],
      "source": [
        "import deeplabcut\n",
        "import os\n",
        "import shutil"
      ]
    },
    {
      "cell_type": "markdown",
      "source": [
        "# <u> **Step 6. Edit project_folder path to location in your Google Drive** </u>\n",
        "\n",
        "# **This is the <u> first</u> cell you will need to edit to fit your project**\n",
        "\n",
        "## The base path for Google Drive is \"/content/drive/MyDrive/\"\n",
        "\n",
        "## In this example my project folder \"myprojectfolder\" is in a subfolder \"DeepLabCut\" in my Google Drive so that's why I added \"DeepLabCut/\" to this.\n"
      ],
      "metadata": {
        "id": "AteOF8LjxXYT"
      }
    },
    {
      "cell_type": "code",
      "execution_count": null,
      "metadata": {
        "execution": {
          "iopub.execute_input": "2024-05-10T05:22:23.655181Z",
          "iopub.status.busy": "2024-05-10T05:22:23.654874Z",
          "iopub.status.idle": "2024-05-10T05:22:23.658339Z",
          "shell.execute_reply": "2024-05-10T05:22:23.658126Z",
          "shell.execute_reply.started": "2024-05-10T05:22:23.655167Z"
        },
        "id": "KS4Q4UkR9rgG"
      },
      "outputs": [],
      "source": [
        "# set project_folder variable to full path location of project folder\n",
        "project_folder = '/content/drive/MyDrive/DeepLabCut/myprojectfolder/'"
      ]
    },
    {
      "cell_type": "markdown",
      "source": [
        "## ***If you get an error from running the next cell below then you did not set the project_folder location correctly in the previous cell above.***"
      ],
      "metadata": {
        "id": "IyXZPeKQt6_F"
      }
    },
    {
      "cell_type": "code",
      "source": [
        "# move to directory where project folder is located\n",
        "os.chdir(project_folder)\n",
        "\n",
        "# verify you are in the correct location\n",
        "os.getcwd()"
      ],
      "metadata": {
        "id": "D2xGMLzX-nDW"
      },
      "execution_count": null,
      "outputs": []
    },
    {
      "cell_type": "markdown",
      "source": [
        "# <u> **Step 7. Edit this_phase variable** </u>\n",
        "\n",
        "# **This is the <u>second</u> cell you will need to edit to fit your project**\n",
        "\n",
        "## ***This is where we'll use the name of the video subfolder you created in <u> Step 1. </u>***\n",
        "\n",
        "## **For example, if you used \"Run1\" for the video subfolder name then you would set 'this_phase' to be \"Run1\" like below**"
      ],
      "metadata": {
        "id": "NnQwhsv_yZ59"
      }
    },
    {
      "cell_type": "code",
      "source": [
        "# Enter phase for these videos for storing analysis output data later\n",
        "this_phase = 'Run1'"
      ],
      "metadata": {
        "id": "skf89_K5x6uD"
      },
      "execution_count": null,
      "outputs": []
    },
    {
      "cell_type": "markdown",
      "metadata": {
        "id": "Frnj1RVDyEqs"
      },
      "source": [
        "# <u> **Step 8. Create variables and folders for our output later** </u>"
      ]
    },
    {
      "cell_type": "code",
      "execution_count": null,
      "metadata": {
        "execution": {
          "iopub.execute_input": "2024-05-10T05:22:26.692633Z",
          "iopub.status.busy": "2024-05-10T05:22:26.692462Z",
          "iopub.status.idle": "2024-05-10T05:22:26.695090Z",
          "shell.execute_reply": "2024-05-10T05:22:26.694713Z",
          "shell.execute_reply.started": "2024-05-10T05:22:26.692622Z"
        },
        "id": "vhENAlQnFENJ"
      },
      "outputs": [],
      "source": [
        "path_config_file = project_folder + 'config.yaml'\n",
        "\n",
        "# Enter the folder of videos to analyze.\n",
        "videofile_path = [project_folder + 'videos/' + this_phase]\n",
        "\n",
        "# Which shuffle do you want to create and train? Edit if needed, 1 is the default.\n",
        "shuffle = 1\n",
        "\n",
        "# Create a results folder within project directory to store output data\n",
        "if not os.path.exists(\"results\"):\n",
        "    os.mkdir('results')\n",
        "\n",
        "# Create location in results folder where output data will be stored\n",
        "analysis_destination_path = project_folder + 'results/' + this_phase\n",
        "\n",
        "if not os.path.exists(analysis_destination_path):\n",
        "    os.mkdir(analysis_destination_path)"
      ]
    },
    {
      "cell_type": "markdown",
      "metadata": {
        "id": "c4FczXGDoEJU"
      },
      "source": [
        "# <u> **Step 9. Create training dataset** </u>\n",
        "\n",
        "## ***All options for net_type and augmenter_type if you do not want the options set below:***\n",
        "\n",
        "### net_type_list = ['resnet_50', 'resnet_101', 'resnet_152', 'mobilenet_v2_1.0', 'efficientnet-b0', 'efficientnet-b1', 'efficientnet-b2', 'efficientnet-b3', 'efficientnet-b4', 'efficientnet-b5', 'efficientnet-b6']\n",
        "\n",
        "### augmenter_type_list = ['default', 'scalecrop', 'imgaug', 'tensorpack', 'deterministic']"
      ]
    },
    {
      "cell_type": "code",
      "execution_count": null,
      "metadata": {
        "execution": {
          "iopub.execute_input": "2024-02-23T03:30:22.230667Z",
          "iopub.status.busy": "2024-02-23T03:30:22.230516Z",
          "iopub.status.idle": "2024-02-23T03:30:23.475302Z",
          "shell.execute_reply": "2024-02-23T03:30:23.474987Z",
          "shell.execute_reply.started": "2024-02-23T03:30:22.230656Z"
        },
        "id": "DLQw-Awng5PY"
      },
      "outputs": [],
      "source": [
        "deeplabcut.create_training_dataset(path_config_file,\n",
        "                                   net_type ='resnet_50',\n",
        "                                   augmenter_type = 'imgaug',\n",
        "                                   Shuffles = [shuffle])"
      ]
    },
    {
      "cell_type": "markdown",
      "source": [
        "### - **Useful information for deeplabcut.create_training_dataset()**\n",
        "\n",
        "***Do not*** run this a <u>**second**</u> time if only increasing max_iters for deeplabcut.train_network(). Only rerun this line again if you edit the config to add more videos, extract more frames, and labeled more frames.\n",
        "\n",
        "\n",
        "This function trains the network for a specific shuffle of the training dataset.\n",
        " - more info: https://deeplabcut.github.io/DeepLabCut/docs/"
      ],
      "metadata": {
        "id": "B1yD5dwi4OOX"
      }
    },
    {
      "cell_type": "markdown",
      "source": [
        "# <u> **Step 10. Start training** </u>\n",
        "\n",
        "## **This is the step that *will* take the longest. At least a few hours depending on how many videos / frames you labeled and maxiters set below.**\n",
        "\n",
        "## <u> *You MUST leave the browser open on the computer this is running on OR after running the cell below, you can open up this notebook simultaneously on the Google Colab site on your phone or another device and just check the status occasionally.* </u>\n",
        "\n",
        "## ***This will make sure your session remains connected as Google Colab <u>will</u> timeout if you close the browser, and <u>you will have to start over</u>. You can reopen the notebook and continue the Google Colab session on any computer as long as you still have it open and connected on your phone or another device.***\n",
        "\n",
        "*Note: Google Colab time limits are not clearly defined but you can probably assume anything running longer than 12 hours will be automatically disconnected as this notebook assumes you are using the free tier and Google Colab prioritizes its paying subscribers.\n",
        "\n",
        "For a rough idea of time, my training using 30 frames labeled for four 5 minute videos with the maxiters set to 100000 usually completes in around 8 hours, although your experience may vary."
      ],
      "metadata": {
        "id": "74hIrucG4zw6"
      }
    },
    {
      "cell_type": "code",
      "execution_count": null,
      "metadata": {
        "execution": {
          "iopub.execute_input": "2024-02-23T03:31:54.796685Z",
          "iopub.status.busy": "2024-02-23T03:31:54.796536Z"
        },
        "id": "1RT-tE2AhhSL",
        "scrolled": true
      },
      "outputs": [],
      "source": [
        "deeplabcut.train_network(path_config_file,\n",
        "                         saveiters = 10000,\n",
        "                         displayiters = 1000,\n",
        "                         maxiters = 100000)"
      ]
    },
    {
      "cell_type": "markdown",
      "source": [
        "### **The above cell will probably show an error when it is done with all iterations. This is totally normal and can be disregarded.**"
      ],
      "metadata": {
        "id": "gndvEVwHB0vi"
      }
    },
    {
      "cell_type": "markdown",
      "source": [
        "### - **Useful information for deeplabcut.train_network()**\n",
        "\n",
        "When training for a <u>**second**</u> time, **if** the 'max_iters' variable is set to the same value as the last snapshot iteration number, this will cause an error. This happens because it actually now starts from the iteration of the last snapshot.\n",
        "\n",
        "For example, if you originally trained it with 100,000 iterations and now want another 100k iterations to improve accuracy, then change max_iters to 200000"
      ],
      "metadata": {
        "id": "-JkytXS_4QDa"
      }
    },
    {
      "cell_type": "markdown",
      "source": [
        "# <u> **Step 11. Analyze videos with now trained model.** </u>\n",
        "\n",
        "## **This uses the now trained model to analyze all the videos in your this_phase video subfolder.**"
      ],
      "metadata": {
        "id": "CwXNapKfD8WP"
      }
    },
    {
      "cell_type": "code",
      "execution_count": null,
      "metadata": {
        "execution": {
          "iopub.execute_input": "2024-02-23T07:16:58.817518Z",
          "iopub.status.busy": "2024-02-23T07:16:58.817354Z",
          "iopub.status.idle": "2024-02-23T07:36:02.333350Z",
          "shell.execute_reply": "2024-02-23T07:36:02.333027Z",
          "shell.execute_reply.started": "2024-02-23T07:16:58.817507Z"
        },
        "id": "Xq3qJAhPrvMC"
      },
      "outputs": [],
      "source": [
        "deeplabcut.analyze_videos(path_config_file,\n",
        "                          videofile_path,\n",
        "                          shuffle = shuffle,\n",
        "                          save_as_csv = True,\n",
        "                          destfolder = analysis_destination_path,\n",
        "                          videotype = 'mp4')"
      ]
    },
    {
      "cell_type": "markdown",
      "source": [
        "# <u> **Step 12. Create labeled videos from analyzed files.** </u>\n",
        "\n",
        "## **This creates labeled videos to visually inspect how training did at labeling and tracking animal.**"
      ],
      "metadata": {
        "id": "0lkgAEAjEHMs"
      }
    },
    {
      "cell_type": "code",
      "execution_count": null,
      "metadata": {
        "execution": {
          "iopub.execute_input": "2024-02-23T07:36:13.266356Z",
          "iopub.status.busy": "2024-02-23T07:36:13.266218Z",
          "iopub.status.idle": "2024-02-23T07:37:25.006598Z",
          "shell.execute_reply": "2024-02-23T07:37:25.006165Z",
          "shell.execute_reply.started": "2024-02-23T07:36:13.266346Z"
        },
        "id": "llnHcnVkrvMC"
      },
      "outputs": [],
      "source": [
        "deeplabcut.create_labeled_video(path_config_file,\n",
        "                                videofile_path,\n",
        "                                draw_skeleton = True,\n",
        "                                skeleton_color = \"white\",\n",
        "                                color_by = \"individual\",\n",
        "                                destfolder = analysis_destination_path,\n",
        "                                videotype = 'mp4',\n",
        "                                save_frames = False)"
      ]
    },
    {
      "cell_type": "markdown",
      "source": [
        "# <u> **DONE** </u>\n",
        "\n",
        "## **Look at the results in the project folder 'results' folder and the labeled videos in your video subfolder in Google Drive to see how training and analysis parameters turned out.**"
      ],
      "metadata": {
        "id": "HW2oHVeX5tVN"
      }
    },
    {
      "cell_type": "markdown",
      "source": [
        "# <u> **Optional Step. Move files to dedicated folders in results folder** </u>\n",
        "\n",
        "## ***This is <u> not </u> necessary to run and if you plan to do post-processing steps like manually fixing labels then <u> you will need to move all these files back </u> to videos folder or set their paths manually via command line.***\n",
        "\n",
        "## <u>**BUT**</u> **if you would like to move all your results to neat dedicated folders based on file type then run this cell.**"
      ],
      "metadata": {
        "id": "Mvh2a3opwBtH"
      }
    },
    {
      "cell_type": "code",
      "execution_count": null,
      "metadata": {
        "execution": {
          "iopub.execute_input": "2024-02-23T07:37:30.840608Z",
          "iopub.status.busy": "2024-02-23T07:37:30.840470Z",
          "iopub.status.idle": "2024-02-23T07:37:30.844609Z",
          "shell.execute_reply": "2024-02-23T07:37:30.844348Z",
          "shell.execute_reply.started": "2024-02-23T07:37:30.840597Z"
        },
        "id": "6KYMe4WjrvMC"
      },
      "outputs": [],
      "source": [
        "# Create location for labeled-videos\n",
        "labeled_videos_folder = project_folder + 'labeled-videos/'\n",
        "\n",
        "if not os.path.exists(labeled_videos_folder):\n",
        "    os.mkdir(labeled_videos_folder)\n",
        "\n",
        "# Organize output data into folders by file type\n",
        "os.chdir(analysis_destination_path)\n",
        "these_labeled_videos = labeled_videos_folder + this_phase\n",
        "\n",
        "if not os.path.exists('CSVs'):\n",
        "    os.mkdir('CSVs')\n",
        "if not os.path.exists('h5'):\n",
        "    os.mkdir('h5')\n",
        "if not os.path.exists('pickle'):\n",
        "    os.mkdir('pickle')\n",
        "if not os.path.exists(these_labeled_videos):\n",
        "    os.mkdir(these_labeled_videos)\n",
        "\n",
        "all_analysis_files = os.listdir()\n",
        "\n",
        "for f in all_analysis_files:\n",
        "    if f.endswith('.csv'):\n",
        "        shutil.move(f, 'CSVs')\n",
        "    elif f.endswith('.h5'):\n",
        "        shutil.move(f, 'h5')\n",
        "    elif f.endswith('.pickle'):\n",
        "        shutil.move(f, 'pickle')\n",
        "    elif f.endswith('.mp4'):\n",
        "        shutil.move(f, these_labeled_videos)"
      ]
    },
    {
      "cell_type": "markdown",
      "source": [
        "# **If you <u> *did*</u> choose to run this cell above**\n",
        "### **Then the results and labeled videos are stored in the results and labeled_videos folders within the project_folder in Google Drive. Look at these to see how training and analysis parameters turned out.**"
      ],
      "metadata": {
        "id": "ZR8d0C5R7_Ur"
      }
    },
    {
      "cell_type": "markdown",
      "metadata": {
        "id": "OVFLSKKfoEJk"
      },
      "source": [
        "# <u>**Analyzing New Videos</u>**\n",
        "\n",
        "## - **When returning to analyze new similar looking videos using this already trained model, re-run Steps 1-6**\n",
        "\n",
        "## - **Then after re-running Steps 1-6 set 'this_phase' in the cell below to the name of the new subfolder of videos within the videos folder you now want to analyze. This should be the <u> only</u> variable you need to change and is the name of the new folder within videos folder, for example 'Run2'**\n",
        "\n",
        "## - **Do <u> NOT</u> retrain model (Steps 7-10) <u> unless</u> your labeled videos do not look accurate from first training model.**"
      ]
    },
    {
      "cell_type": "code",
      "source": [
        "this_phase = 'Run2'"
      ],
      "metadata": {
        "id": "kZlgTmsH6TT2"
      },
      "execution_count": null,
      "outputs": []
    },
    {
      "cell_type": "code",
      "execution_count": null,
      "metadata": {
        "execution": {
          "iopub.execute_input": "2024-05-10T05:27:01.363080Z",
          "iopub.status.busy": "2024-05-10T05:27:01.362896Z",
          "iopub.status.idle": "2024-05-10T05:27:01.365371Z",
          "shell.execute_reply": "2024-05-10T05:27:01.365126Z",
          "shell.execute_reply.started": "2024-05-10T05:27:01.363069Z"
        },
        "id": "Y_LZiS_0oEJl",
        "scrolled": true
      },
      "outputs": [],
      "source": [
        "new_videofile_path = [project_folder + 'videos/' + this_phase]\n",
        "\n",
        "analysis_destination_path = project_folder + 'results/' + this_phase\n",
        "\n",
        "if not os.path.exists(analysis_destination_path):\n",
        "    os.mkdir(analysis_destination_path)"
      ]
    },
    {
      "cell_type": "code",
      "execution_count": null,
      "metadata": {
        "execution": {
          "iopub.execute_input": "2024-05-09T21:35:53.060949Z",
          "iopub.status.busy": "2024-05-09T21:35:53.060794Z",
          "iopub.status.idle": "2024-05-09T22:03:06.598547Z",
          "shell.execute_reply": "2024-05-09T22:03:06.598190Z",
          "shell.execute_reply.started": "2024-05-09T21:35:53.060939Z"
        },
        "id": "tdz27knsrvMD"
      },
      "outputs": [],
      "source": [
        "print(\"Analyzing new videos\")\n",
        "\n",
        "deeplabcut.analyze_videos(path_config_file,\n",
        "                          new_videofile_path,\n",
        "                          shuffle = shuffle,\n",
        "                          save_as_csv = True,\n",
        "                          destfolder = analysis_destination_path,\n",
        "                          videotype = 'mp4')"
      ]
    },
    {
      "cell_type": "code",
      "execution_count": null,
      "metadata": {
        "execution": {
          "iopub.execute_input": "2024-05-10T05:28:15.742736Z",
          "iopub.status.busy": "2024-05-10T05:28:15.742580Z",
          "iopub.status.idle": "2024-05-10T05:30:22.964783Z",
          "shell.execute_reply": "2024-05-10T05:30:22.964304Z",
          "shell.execute_reply.started": "2024-05-10T05:28:15.742724Z"
        },
        "scrolled": true,
        "id": "Mf9qVC8crvMD"
      },
      "outputs": [],
      "source": [
        "deeplabcut.create_labeled_video(path_config_file,\n",
        "                                new_videofile_path,\n",
        "                                draw_skeleton = True,\n",
        "                                skeleton_color = \"white\",\n",
        "                                color_by=\"individual\",\n",
        "                                destfolder = analysis_destination_path,\n",
        "                                videotype = 'mp4',\n",
        "                                save_frames = False)"
      ]
    },
    {
      "cell_type": "markdown",
      "source": [
        "# **Optional Step. Move files to dedicated folders in results folder**"
      ],
      "metadata": {
        "id": "_zAbuWT17T8e"
      }
    },
    {
      "cell_type": "code",
      "execution_count": null,
      "metadata": {
        "execution": {
          "iopub.execute_input": "2024-05-10T06:18:46.435438Z",
          "iopub.status.busy": "2024-05-10T06:18:46.435308Z",
          "iopub.status.idle": "2024-05-10T06:18:46.438656Z",
          "shell.execute_reply": "2024-05-10T06:18:46.438419Z",
          "shell.execute_reply.started": "2024-05-10T06:18:46.435428Z"
        },
        "id": "mqhpEzmvrvMD"
      },
      "outputs": [],
      "source": [
        "# Set path for labeled-videos folder\n",
        "labeled_videos_folder = project_folder + 'labeled-videos/'\n",
        "\n",
        "# Organize output data into folders by file type\n",
        "os.chdir(analysis_destination_path)\n",
        "these_labeled_videos = labeled_videos_folder + this_phase\n",
        "\n",
        "if not os.path.exists('CSVs'):\n",
        "    os.mkdir('CSVs')\n",
        "if not os.path.exists('h5'):\n",
        "    os.mkdir('h5')\n",
        "if not os.path.exists('pickle'):\n",
        "    os.mkdir('pickle')\n",
        "if not os.path.exists(these_labeled_videos):\n",
        "    os.mkdir(these_labeled_videos)\n",
        "\n",
        "all_analysis_files = os.listdir()\n",
        "\n",
        "for f in all_analysis_files:\n",
        "    if f.endswith('.csv'):\n",
        "        shutil.move(f, 'CSVs')\n",
        "    elif f.endswith('.h5'):\n",
        "        shutil.move(f, 'h5')\n",
        "    elif f.endswith('.pickle'):\n",
        "        shutil.move(f, 'pickle')\n",
        "    elif f.endswith('.mp4'):\n",
        "        shutil.move(f, these_labeled_videos)"
      ]
    }
  ],
  "metadata": {
    "accelerator": "GPU",
    "colab": {
      "provenance": []
    },
    "gpuClass": "standard",
    "kernelspec": {
      "display_name": "deeplabcut",
      "language": "python",
      "name": "deeplabcut"
    },
    "language_info": {
      "codemirror_mode": {
        "name": "ipython",
        "version": 3
      },
      "file_extension": ".py",
      "mimetype": "text/x-python",
      "name": "python",
      "nbconvert_exporter": "python",
      "pygments_lexer": "ipython3",
      "version": "3.9.18"
    }
  },
  "nbformat": 4,
  "nbformat_minor": 0
}