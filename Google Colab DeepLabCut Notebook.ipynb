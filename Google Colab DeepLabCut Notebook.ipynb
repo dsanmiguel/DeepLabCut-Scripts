{
  "cells": [
    {
      "cell_type": "markdown",
      "metadata": {
        "id": "RK255E7YoEIt"
      },
      "source": [
        "# DeepLabCut\n",
        "\n",
        "*This notebook is based off of the outdated multi-animal GoogleColab tutorial notebook on the DeepLabCut website. It has been edited and updated with fixes to make it work*\n",
        "# ***If you plan to use this script please cite me***\n",
        "***Daniel Anthony San Miguel Jr., PhD Student at The University of Texas at Austin, College of Pharmacy, Division of Pharmacology & Toxicology, https://github.com/dsanmiguel/DeepLabCut-Scripts/***\n",
        "\n",
        "![alt text](https://images.squarespace-cdn.com/content/v1/57f6d51c9f74566f55ecf271/1628180434489-T0RIWEJJU0FJVOT6FNVD/maDLC.png?format=200w)\n",
        "\n",
        "https://github.com/DeepLabCut/DeepLabCut\n",
        "\n",
        "### This notebook demonstrates the necessary steps to use DeepLabCut for your own project and illustrates how to use a single animal project with a Google Colab installed version of DeepLabCut to:\n",
        "\n",
        "- create a single-animal training set\n",
        "- train a network\n",
        "- evaluate a network\n",
        "- analyze novel videos\n",
        "- train additional videos on trained model\n",
        "- assemble animals and tracklets\n",
        "- create quality check plots\n",
        "\n",
        "### *This notebook assumes you already have a DLC project folder with labeled data and you uploaded it to Google Drive already*\n"
      ]
    },
    {
      "cell_type": "markdown",
      "source": [
        "## **First, go to \"Runtime\" ->\"change runtime type\"->select \"Python3\", and then select \"T4 GPU\"**"
      ],
      "metadata": {
        "id": "7Y7MVEkbJkjA"
      }
    },
    {
      "cell_type": "markdown",
      "source": [
        "## This first code cell below installs all the dependencies needed to run DeepLabCut in Google Colab as well as DeepLabCut itself (no GUI available in Colab).\n",
        "## ***This takes about 15-20 minutes to install and set up everything before any other cells below can be ran***"
      ],
      "metadata": {
        "id": "tPhqvnnHIsNT"
      }
    },
    {
      "cell_type": "code",
      "source": [
        "# Upgrade python package manager\n",
        "!pip3 install --upgrade pip\n",
        "\n",
        "# Install deeplabcut\n",
        "!pip3 install -qqq deeplabcut\n",
        "%reload_ext numpy\n",
        "%reload_ext scipy\n",
        "%reload_ext matplotlib\n",
        "%reload_ext mpl_toolkits\n",
        "\n",
        "# Install deeplabcut google colab specific things\n",
        "!pip3 install -qqq --upgrade scikit-image\n",
        "!pip3 install -qqq pickle5\n",
        "!pip3 install -qqq torch\n",
        "\n",
        "# this is so the next line when installing updated cuda doesn't ask for keyboard interaction\n",
        "!DEBIAN_FRONTEND=noninteractive apt-get install keyboard-configuration\n",
        "\n",
        "# Update cuda to latest version\n",
        "!wget https://developer.download.nvidia.com/compute/cuda/repos/ubuntu2204/x86_64/cuda-keyring_1.1-1_all.deb\n",
        "!sudo dpkg -i cuda-keyring_1.1-1_all.deb\n",
        "!sudo apt-get update\n",
        "!sudo apt-get -y install cuda\n",
        "\n",
        "# This is just to check what version of cuda we have now to make sure it installed correctly\n",
        "#!nvcc --version\n",
        "\n",
        "# This line below is just to search for the name of specific libcudnn8 package to then install in the following line\n",
        "#!apt-cache policy libcudnn8\n",
        "\n",
        "# This installs the updated version of libcudnn8 we need that we got from the output above\n",
        "!sudo apt install --allow-change-held-packages libcudnn8=8.9.5.29-1+cuda12.2\n",
        "\n",
        "# Add newly installed cuda version to PATH\n",
        "!export PATH=/usr/local/cuda-12.2/bin${PATH:+:${PATH}}\n",
        "!export LD_LIBRARY_PATH=/usr/local/cuda-12.2/lib64:$LD_LIBRARY_PATH\n",
        "!export LD_LIBRARY_PATH=/usr/local/cuda-12.2/include:$LD_LIBRARY_PATH\n",
        "!export LD_LIBRARY_PATH=$LD_LIBRARY_PATH:/usr/local/cuda/extras/CUPTI/lib64\n",
        "\n",
        "# Downgrade tensorflow to older version otherwise deeplabcut.train_network won't work later\n",
        "!pip3 uninstall -y -qqq tensorflow\n",
        "!pip3 install -qqq tensorflow==2.8.0\n",
        "\n",
        "# Install other dependency packages\n",
        "!pip3 install -qqq segmentation-models\n",
        "!pip3 install -qqq pycocotools\n",
        "!pip3 install -qqq opencv-python-headless"
      ],
      "metadata": {
        "id": "egZaIiScbeM4"
      },
      "execution_count": null,
      "outputs": []
    },
    {
      "cell_type": "code",
      "execution_count": null,
      "metadata": {
        "execution": {
          "iopub.execute_input": "2023-09-27T19:44:46.655630Z",
          "iopub.status.busy": "2023-09-27T19:44:46.655552Z",
          "iopub.status.idle": "2023-09-27T19:44:48.647217Z",
          "shell.execute_reply": "2023-09-27T19:44:48.646865Z",
          "shell.execute_reply.started": "2023-09-27T19:44:46.655623Z"
        },
        "id": "oTwAcbq2-FZz"
      },
      "outputs": [],
      "source": [
        "import deeplabcut\n",
        "import os\n",
        "import shutil"
      ]
    },
    {
      "cell_type": "markdown",
      "source": [
        "# Now, let's link to your Google Drive. Run this next cell and follow the authorization instructions."
      ],
      "metadata": {
        "id": "5xHz6RHzKS93"
      }
    },
    {
      "cell_type": "code",
      "source": [
        "from google.colab import drive\n",
        "drive.mount('/content/drive', force_remount = True)"
      ],
      "metadata": {
        "colab": {
          "base_uri": "https://localhost:8080/"
        },
        "id": "Rnu9usxOKAtd",
        "outputId": "4eac41e5-9196-4202-ffe1-7d8830b1b29f"
      },
      "execution_count": null,
      "outputs": [
        {
          "output_type": "stream",
          "name": "stdout",
          "text": [
            "Mounted at /content/drive\n"
          ]
        }
      ]
    },
    {
      "cell_type": "markdown",
      "metadata": {
        "id": "cQ-nlTkri4HZ"
      },
      "source": [
        "- This code assumes you first locally installed DeepLabCut, created a project, extracted and labeled frames already.\n",
        "\n",
        "- Be sure to \"check Labels\" to confirm you are happy with your data as these frames are the only thing that is used to train your network. You can find all the docs to do this here: https://deeplabcut.github.io/DeepLabCut\n",
        "\n",
        "- Next, change directory to the DLC project folder you created previously named \"Project-YourName-TheDate\""
      ]
    },
    {
      "cell_type": "markdown",
      "source": [
        "# **First cell you will need to edit to fit your project**"
      ],
      "metadata": {
        "id": "bylGqV4SO2EI"
      }
    },
    {
      "cell_type": "code",
      "execution_count": null,
      "metadata": {
        "execution": {
          "iopub.execute_input": "2023-09-27T19:44:53.341535Z",
          "iopub.status.busy": "2023-09-27T19:44:53.341271Z",
          "iopub.status.idle": "2023-09-27T19:44:53.343593Z",
          "shell.execute_reply": "2023-09-27T19:44:53.343349Z",
          "shell.execute_reply.started": "2023-09-27T19:44:53.341526Z"
        },
        "id": "KS4Q4UkR9rgG"
      },
      "outputs": [],
      "source": [
        "# The base path for Google Drive is \"/content/drive/MyDrive/\"\n",
        "# My folder \"JP23A Run 1 Phase III-Daniel-2023-05-10\" is in the subfolder \"DeepLabCut\" in my Google Drive so that's why I added \"DeepLabCut/\" to this.\n",
        "# Make sure there is a backslash / at the end of each of these path variables\n",
        "google_drive_path = \"/content/drive/MyDrive/DeepLabCut/\"\n",
        "\n",
        "# set project_name variable to name of project folder\n",
        "project_name = 'myprojectfoldername'"
      ]
    },
    {
      "cell_type": "markdown",
      "source": [
        "## ***If you get an error from running the cell below then you did not set the folder location correctly in the cell above.***"
      ],
      "metadata": {
        "id": "vovc08uuPJvP"
      }
    },
    {
      "cell_type": "code",
      "source": [
        "# This sets the full path location of the project folder in Google Drive to tell Google Colab where to store output later\n",
        "project_folder = google_drive_path + project_name\n",
        "\n",
        "# move to directory where project folder is located\n",
        "os.chdir(project_folder)\n",
        "\n",
        "# verify you are in the correct location\n",
        "os.getcwd()"
      ],
      "metadata": {
        "colab": {
          "base_uri": "https://localhost:8080/",
          "height": 35
        },
        "id": "pjceLncfPB3e",
        "outputId": "70cbb7dd-52f7-495c-c094-1ac746378016"
      },
      "execution_count": null,
      "outputs": [
        {
          "output_type": "execute_result",
          "data": {
            "text/plain": [
              "'/content/drive/MyDrive/DeepLabCut/JP23A Run 1 Phase III-Daniel-2023-05-10'"
            ],
            "application/vnd.google.colaboratory.intrinsic+json": {
              "type": "string"
            }
          },
          "metadata": {},
          "execution_count": 17
        }
      ]
    },
    {
      "cell_type": "markdown",
      "metadata": {
        "id": "Frnj1RVDyEqs"
      },
      "source": [
        "## **Second cell that needs editing**\n"
      ]
    },
    {
      "cell_type": "code",
      "source": [
        "# The name of your config file, by default it's named config.yaml unless you changed it.\n",
        "path_config_file = project_folder + 'config.yaml'\n",
        "\n",
        "# Enter Phase for these videos, this will serve as the subfolder name for storing analysis output for this data later\n",
        "# If first time running, you could name it something like \"Run1-Phase1\" or anything else of your choosing\n",
        "this_phase = 'myfirstphase'"
      ],
      "metadata": {
        "id": "BuYunY2CQMEp"
      },
      "execution_count": null,
      "outputs": []
    },
    {
      "cell_type": "markdown",
      "source": [
        "## **The rest of the code below should be fine to run as is *up until the section \"Analyzing New Videos\"* where the cells in that section will need to be edited if you decide to label new videos based on this model.**"
      ],
      "metadata": {
        "id": "iN3O-5AdRF6G"
      }
    },
    {
      "cell_type": "code",
      "execution_count": null,
      "metadata": {
        "execution": {
          "iopub.execute_input": "2023-09-27T19:45:56.790792Z",
          "iopub.status.busy": "2023-09-27T19:45:56.790663Z",
          "iopub.status.idle": "2023-09-27T19:45:56.794290Z",
          "shell.execute_reply": "2023-09-27T19:45:56.793793Z",
          "shell.execute_reply.started": "2023-09-27T19:45:56.790785Z"
        },
        "id": "vhENAlQnFENJ"
      },
      "outputs": [],
      "source": [
        "# Set path of the folder of videos to analyze based on project_folder path\n",
        "videofile_path = [project_folder + 'videos/' + this_phase]\n",
        "\n",
        "# Which shuffle do you want to create and train? Edit if needed, 1 is the default.\n",
        "shuffle = 1\n",
        "\n",
        "# This will be where the results for this phase will be stored later\n",
        "analysis_destination_path = project_folder + 'results/' + this_phase"
      ]
    },
    {
      "cell_type": "markdown",
      "source": [
        "##*This cell is only necessary to run the first time when creating the project, so if second time running and you get an error that says \"folders already exist,\" please ignore.*\n",
        "\n"
      ],
      "metadata": {
        "id": "f-oPazq1SXmI"
      }
    },
    {
      "cell_type": "code",
      "source": [
        "# Create a results folder within project directory to store output data\n",
        "os.mkdir('results')\n",
        "\n",
        "# Create location in results folder where output data will be stored\n",
        "os.mkdir(analysis_destination_path)\n",
        "\n",
        "# Create folder where future new video folders can be stored in case we want to use this model on new videos not included in first run\n",
        "new_videos_folder = project_folder + 'new-videos/'\n",
        "os.mkdir(new_videos_folder)"
      ],
      "metadata": {
        "id": "osXrTre6KtaC"
      },
      "execution_count": null,
      "outputs": []
    },
    {
      "cell_type": "markdown",
      "metadata": {
        "id": "c4FczXGDoEJU"
      },
      "source": [
        "#**Start training**\n",
        "This function trains the network for a specific shuffle of the training dataset.\n",
        " - more info: https://deeplabcut.github.io/DeepLabCut/docs/\n",
        "\n",
        "## Useful information for deeplabcut.create_training_dataset()\n",
        "\n",
        "***Do not*** run this a <u>**second**</u> time if only increasing max_iters for deeplabcut.train_network(). Only rerun this line again if you edited the config to add more videos, extract more frames, or label more frames."
      ]
    },
    {
      "cell_type": "markdown",
      "metadata": {
        "id": "P4L88LPnbbGi"
      },
      "source": []
    },
    {
      "cell_type": "code",
      "execution_count": null,
      "metadata": {
        "execution": {
          "iopub.execute_input": "2023-07-22T04:26:10.282369Z",
          "iopub.status.busy": "2023-07-22T04:26:10.281905Z",
          "iopub.status.idle": "2023-07-22T04:26:10.417991Z",
          "shell.execute_reply": "2023-07-22T04:26:10.417741Z",
          "shell.execute_reply.started": "2023-07-22T04:26:10.282335Z"
        },
        "id": "DLQw-Awng5PY"
      },
      "outputs": [],
      "source": [
        "deeplabcut.create_training_dataset(path_config_file,\n",
        "                                   net_type='resnet_50',\n",
        "                                   augmenter_type = 'imgaug',\n",
        "                                   Shuffles = [shuffle],\n",
        "                                   windows2linux = False)"
      ]
    },
    {
      "cell_type": "markdown",
      "metadata": {
        "id": "jNMEFa2ubbGj"
      },
      "source": [
        "## Useful information for deeplabcut.train_network()\n",
        "\n",
        "When training for a <u>**second**</u> time, **if** the 'max_iters' variable is set to the same value as the last snapshot iteration number, this will cause an error. This happens because it actually now starts from the iteration of the last snapshot.\n",
        "\n",
        "For example, if you originally trained it with 200,000 iterations and now want another 200k iterations to improve accuracy, then change max_iters to 400000"
      ]
    },
    {
      "cell_type": "code",
      "execution_count": null,
      "metadata": {
        "execution": {
          "iopub.execute_input": "2023-07-22T04:26:32.952378Z",
          "iopub.status.busy": "2023-07-22T04:26:32.951861Z",
          "iopub.status.idle": "2023-07-22T04:41:08.517618Z",
          "shell.execute_reply": "2023-07-22T04:41:08.517052Z",
          "shell.execute_reply.started": "2023-07-22T04:26:32.952340Z"
        },
        "id": "1RT-tE2AhhSL",
        "scrolled": true
      },
      "outputs": [],
      "source": [
        "deeplabcut.train_network(path_config_file,\n",
        "                         shuffle = shuffle,\n",
        "                         displayiters = 100,\n",
        "                         saveiters = 1000,\n",
        "                         maxiters = 75000,\n",
        "                         allow_growth = True)"
      ]
    },
    {
      "cell_type": "markdown",
      "source": [
        "### *This code assumes videos are in mp4 format so if not please edit videotype parameter here and in the following cells*"
      ],
      "metadata": {
        "id": "kd5j9vK3eMZL"
      }
    },
    {
      "cell_type": "code",
      "execution_count": null,
      "metadata": {
        "execution": {
          "iopub.execute_input": "2023-07-22T04:44:12.606223Z",
          "iopub.status.busy": "2023-07-22T04:44:12.605738Z",
          "iopub.status.idle": "2023-07-22T05:04:12.960910Z",
          "shell.execute_reply": "2023-07-22T05:04:12.960555Z",
          "shell.execute_reply.started": "2023-07-22T04:44:12.606188Z"
        },
        "id": "vHXniCyn1Wvx"
      },
      "outputs": [],
      "source": [
        "deeplabcut.analyze_videos(path_config_file,\n",
        "                          videofile_path,\n",
        "                          shuffle = shuffle,\n",
        "                          save_as_csv = True,\n",
        "                          destfolder = analysis_destination_path,\n",
        "                          videotype = 'mp4')"
      ]
    },
    {
      "cell_type": "markdown",
      "metadata": {
        "id": "pCrUvQIvoEKD"
      },
      "source": [
        "## Create labeled video:\n",
        "This function is for visualiztion purpose and can be used to create a video in .mp4 format with labels predicted by the network. This video is originally saved in the same directory where the original video resides but we move it to the labeled-videos folder in the main project folder in the following cell."
      ]
    },
    {
      "cell_type": "code",
      "execution_count": null,
      "metadata": {
        "execution": {
          "iopub.execute_input": "2023-07-22T05:07:48.558316Z",
          "iopub.status.busy": "2023-07-22T05:07:48.557832Z",
          "iopub.status.idle": "2023-07-22T05:08:56.647154Z",
          "shell.execute_reply": "2023-07-22T05:08:56.646657Z",
          "shell.execute_reply.started": "2023-07-22T05:07:48.558280Z"
        },
        "id": "rgTy5ap82zDl"
      },
      "outputs": [],
      "source": [
        "deeplabcut.create_labeled_video(path_config_file,\n",
        "                                videofile_path,\n",
        "                                destfolder = analysis_destination_path,\n",
        "                                videotype = 'mp4',\n",
        "                                save_frames = False)"
      ]
    },
    {
      "cell_type": "code",
      "execution_count": null,
      "metadata": {
        "execution": {
          "iopub.execute_input": "2023-07-22T05:22:04.594403Z",
          "iopub.status.busy": "2023-07-22T05:22:04.593919Z",
          "iopub.status.idle": "2023-07-22T05:22:04.602950Z",
          "shell.execute_reply": "2023-07-22T05:22:04.601800Z",
          "shell.execute_reply.started": "2023-07-22T05:22:04.594367Z"
        },
        "id": "fTY0x8_PbbGk"
      },
      "outputs": [],
      "source": [
        "# Create location for labeled-videos\n",
        "labeled_videos_folder = project_folder + 'labeled-videos/'\n",
        "os.mkdir(labeled_videos_folder)\n",
        "\n",
        "# Organize output data into folders by file type\n",
        "os.chdir(analysis_destination_path)\n",
        "these_labeled_videos = labeled_videos_folder + this_phase\n",
        "\n",
        "os.mkdir('CSVs')\n",
        "os.mkdir('h5')\n",
        "os.mkdir('pickle')\n",
        "os.mkdir(these_labeled_videos)\n",
        "\n",
        "all_analysis_files = os.listdir()\n",
        "\n",
        "for f in all_analysis_files:\n",
        "    if f.endswith('.csv'):\n",
        "        shutil.move(f, 'CSVs')\n",
        "    elif f.endswith('.h5'):\n",
        "        shutil.move(f, 'h5')\n",
        "    elif f.endswith('.pickle'):\n",
        "        shutil.move(f, 'pickle')\n",
        "    elif f.endswith('.mp4'):\n",
        "        shutil.move(f, these_labeled_videos)"
      ]
    },
    {
      "cell_type": "markdown",
      "metadata": {
        "id": "fYlGbloolDU2"
      },
      "source": [
        "***If these images, numbers, and maps do not look good, do not proceed. You should increase the diversity and number of frames you label, and re-create a training dataset and re-train!***"
      ]
    },
    {
      "cell_type": "markdown",
      "metadata": {
        "id": "OVFLSKKfoEJk"
      },
      "source": [
        "# **Analyzing New Videos**\n",
        "This function analyzes the new videos. The user can choose the best model from the evaluation results and specify the correct snapshot index for the variable **snapshotindex** in the **config.yaml** file. Otherwise, by default the most recent snapshot is used to analyse the video.\n",
        "\n",
        "The results are stored in CSV, h5, and pickle format file in the analysis_destination_path."
      ]
    },
    {
      "cell_type": "markdown",
      "source": [
        "##**Set \"this_phase\" variable to the name of the folder of videos within the new-videos folder you want to analyze. This should be the only variable you need to change to label new videos and is the name of the folder within new-videos folder**"
      ],
      "metadata": {
        "id": "zKMUZ3QfTeXG"
      }
    },
    {
      "cell_type": "code",
      "source": [
        "this_phase = 'mynewphase'"
      ],
      "metadata": {
        "id": "LZ6DqdmCTaUg"
      },
      "execution_count": null,
      "outputs": []
    },
    {
      "cell_type": "code",
      "execution_count": null,
      "metadata": {
        "execution": {
          "iopub.execute_input": "2023-09-27T19:46:28.473242Z",
          "iopub.status.busy": "2023-09-27T19:46:28.473122Z"
        },
        "id": "Y_LZiS_0oEJl",
        "scrolled": true
      },
      "outputs": [],
      "source": [
        "print(\"Analyzing new videos\")\n",
        "new_videos_folder = project_folder + 'new-videos/'\n",
        "new_videofile_path = [new_videos_folder + this_phase]\n",
        "analysis_destination_path = project_folder + 'results/' + this_phase\n",
        "os.mkdir(analysis_destination_path)"
      ]
    },
    {
      "cell_type": "code",
      "execution_count": null,
      "metadata": {
        "execution": {
          "iopub.execute_input": "2023-08-14T20:25:20.023310Z",
          "iopub.status.busy": "2023-08-14T20:25:20.023153Z",
          "iopub.status.idle": "2023-08-14T20:27:31.125738Z",
          "shell.execute_reply": "2023-08-14T20:27:31.125310Z",
          "shell.execute_reply.started": "2023-08-14T20:25:20.023302Z"
        },
        "scrolled": true,
        "id": "Z3HgmJEEbbGl"
      },
      "outputs": [],
      "source": [
        "deeplabcut.analyze_videos(path_config_file,\n",
        "                          new_videofile_path,\n",
        "                          shuffle = shuffle,\n",
        "                          save_as_csv = True,\n",
        "                          destfolder = analysis_destination_path,\n",
        "                          videotype = 'mp4')\n",
        "\n",
        "deeplabcut.create_labeled_video(path_config_file,\n",
        "                                new_videofile_path,\n",
        "                                destfolder = analysis_destination_path,\n",
        "                                videotype = 'mp4',\n",
        "                                save_frames = False)"
      ]
    },
    {
      "cell_type": "code",
      "execution_count": null,
      "metadata": {
        "execution": {
          "iopub.execute_input": "2023-08-14T21:14:35.885657Z",
          "iopub.status.busy": "2023-08-14T21:14:35.885547Z",
          "iopub.status.idle": "2023-08-14T21:14:35.889029Z",
          "shell.execute_reply": "2023-08-14T21:14:35.888699Z",
          "shell.execute_reply.started": "2023-08-14T21:14:35.885649Z"
        },
        "id": "Il8e_c7KbbGl"
      },
      "outputs": [],
      "source": [
        "# Set path for labeled-videos folder\n",
        "labeled_videos_folder = project_folder + 'labeled-videos/'\n",
        "\n",
        "# Organize output data into folders by file type\n",
        "os.chdir(analysis_destination_path)\n",
        "these_labeled_videos = labeled_videos_folder + this_phase\n",
        "\n",
        "os.mkdir('CSVs')\n",
        "os.mkdir('h5')\n",
        "os.mkdir('pickle')\n",
        "os.mkdir(these_labeled_videos)\n",
        "\n",
        "all_analysis_files = os.listdir()\n",
        "\n",
        "for f in all_analysis_files:\n",
        "    if f.endswith('.csv'):\n",
        "        shutil.move(f, 'CSVs')\n",
        "    elif f.endswith('.h5'):\n",
        "        shutil.move(f, 'h5')\n",
        "    elif f.endswith('.pickle'):\n",
        "        shutil.move(f, 'pickle')\n",
        "    elif f.endswith('.mp4'):\n",
        "        shutil.move(f, these_labeled_videos)"
      ]
    },
    {
      "cell_type": "markdown",
      "metadata": {
        "id": "xZygsb2DoEJc"
      },
      "source": [
        "# **Evaluating Model**\n",
        "\n",
        "### This section is <u>***not***</u> necessary for training and labeling and is only if you want to estimate how good the model is doing. I have not cleaned this up so you will need to set variable names appropriately and likely edit some code below before you are able to run successfully\n",
        "- First, we evaluate the pose estimation performance.\n",
        "\n",
        "- This function evaluates a trained model for a specific shuffle/shuffles at a particular state or all the states on the data set (images) and stores the results as .5 and .csv file in a subdirectory under **evaluation-results**\n",
        "\n",
        "- If the scoremaps do not look accurate, do **NOT** proceed to tracklet assembly, please consider editing config.yaml to:\n",
        "  1. Add more videos\n",
        "  2. Extract more frames for labeling\n",
        "  3. Increase max_iters in deeplabcut.train_network\n",
        "\n",
        "***Remember that if you edit the config.yaml file to do 1 or 2, you need to recreate the training set for updated config by rerunning cell in Train Network section above with deeplabcut.create_training_dataset***\n",
        "\n",
        "- more info: https://deeplabcut.github.io/DeepLabCut/docs/maDLC_UserGuide.html#evaluate-the-trained-network"
      ]
    },
    {
      "cell_type": "code",
      "execution_count": null,
      "metadata": {
        "id": "nv4zlbrnoEJg",
        "scrolled": true
      },
      "outputs": [],
      "source": [
        "#let's evaluate first:\n",
        "deeplabcut.evaluate_network(path_config_file ,\n",
        "                            Shuffles = [shuffle],\n",
        "                            plotting = True)"
      ]
    },
    {
      "cell_type": "code",
      "execution_count": null,
      "metadata": {
        "id": "G1cEOtZlbbGl"
      },
      "outputs": [],
      "source": [
        "#plot a few scoremaps:\n",
        "deeplabcut.extract_save_all_maps(path_config_file,\n",
        "                                 shuffle = shuffle,\n",
        "                                 Indices=[0])"
      ]
    },
    {
      "cell_type": "markdown",
      "metadata": {
        "id": "91xBLOcBzGxo"
      },
      "source": [
        "Optional: Now you have the option to check the raw dections before animals are assembled. To do so, pass a video path:"
      ]
    },
    {
      "cell_type": "code",
      "execution_count": null,
      "metadata": {
        "id": "65mWwX5bTc5C"
      },
      "outputs": [],
      "source": [
        "##### PROTIP: #####\n",
        "## look at the output video; if the pose estimation (i.e. key points)\n",
        "## don't look good, don't proceed with tracking - add more data to your training set and re-train!\n",
        "\n",
        "#EDIT: let's check a specific video (PLEASE EDIT VIDEO PATH):\n",
        "Specific_videofile = '/content/drive/My Drive/myprojectfoldername/videos/myvideo.mp4'\n",
        "\n",
        "\n",
        "deeplabcut.create_video_with_all_detections(path_config_file, [Specific_videofile], shuffle=shuffle)"
      ]
    },
    {
      "cell_type": "markdown",
      "metadata": {
        "id": "3-OgTJ0Lz20e"
      },
      "source": [
        "If the resutling video (ends in full.mp4) is not good, we highly recommend adding more data and training again. See here: https://deeplabcut.github.io/DeepLabCut/docs/maDLC_UserGuide.html#decision-break-point"
      ]
    },
    {
      "cell_type": "markdown",
      "metadata": {
        "id": "PxRLS2_-r55K"
      },
      "source": [
        "# Next, we will assemble animals using our data-driven optimal graph method:\n",
        "\n",
        "- Here, we will find the optimal graph, which matches the \"data-driven\" method from our paper (Figure adapted from Lauer et al. 2021):\n",
        "\n",
        "![alt text](https://images.squarespace-cdn.com/content/v1/57f6d51c9f74566f55ecf271/1626266017809-XO6NX84QB4FBAZGOTCEY/fig3.jpg?format=400w)\n",
        "\n",
        "\n",
        "- note, you can set the number of animals you expect to see, so check, edit, then click run:"
      ]
    },
    {
      "cell_type": "code",
      "execution_count": null,
      "metadata": {
        "id": "zIvXM7TXIs-U"
      },
      "outputs": [],
      "source": [
        "#Check and edit:\n",
        "numAnimals = 1 #how many animals do you expect to find?\n",
        "tracktype= 'skeleton' #box, skeleton, ellipse:\n",
        "#-- ellipse is recommended, unless you have a single-point ma project, then use BOX!\n",
        "\n",
        "#Optional:\n",
        "#imagine you tracked a point that is not useful for assembly,\n",
        "#like a tail tip that is far from the body, consider dropping it for this step (it's still used later)!\n",
        "#To drop it, uncomment the next line TWO lines and add your parts(s):\n",
        "\n",
        "#bodypart= 'Tail_end'\n",
        "#deeplabcut.convert_detections2tracklets(path_config_file, videofile_path, videotype=VideoType, shuffle=shuffle, overwrite=True, ignore_bodyparts=[bodypart])\n",
        "\n",
        "#OR don't drop, just click RUN:\n",
        "deeplabcut.convert_detections2tracklets(path_config_file,\n",
        "                                        videofile_path,\n",
        "                                        videotype = VideoType,\n",
        "                                        shuffle = shuffle,\n",
        "                                        overwrite = False)"
      ]
    },
    {
      "cell_type": "code",
      "execution_count": null,
      "metadata": {
        "id": "F89GCSDSRrzA"
      },
      "outputs": [],
      "source": [
        "# split this from code above to see if this is the problem\n",
        "#deeplabcut.stitch_tracklets(path_config_file, videofile_path, shuffle=shuffle, track_method=tracktype, n_tracks=numAnimals)\n",
        "deeplabcut.utils.make_labeled_video.create_video_from_pickled_tracks(Specific_videofile, '/content/drive/My Drive/DeepLabCut/myprojectfolder/results/myfirstphase/pickle/mypicklefile.pickle')"
      ]
    },
    {
      "cell_type": "markdown",
      "metadata": {
        "id": "TqbAnyfL0Q7h"
      },
      "source": [
        "Now let's filter the data to remove any small jitter:"
      ]
    },
    {
      "cell_type": "code",
      "execution_count": null,
      "metadata": {
        "id": "a6izVWX8sdzL"
      },
      "outputs": [],
      "source": [
        "deeplabcut.filterpredictions(path_config_file,\n",
        "                                 videofile_path,\n",
        "                                 shuffle=shuffle,\n",
        "                                 videotype=VideoType,\n",
        "                                 track_method = tracktype)"
      ]
    },
    {
      "cell_type": "markdown",
      "metadata": {
        "id": "Zk4xGb8Ftf3B"
      },
      "source": [
        "## Create plots of your trajectories:"
      ]
    },
    {
      "cell_type": "code",
      "execution_count": null,
      "metadata": {
        "id": "gX21zZbXoEKJ"
      },
      "outputs": [],
      "source": [
        "#numAnimals = 1 #how many animals do you expect to find?\n",
        "tracktype= 'box'\n",
        "shuffle = 1\n",
        "deeplabcut.plot_trajectories(path_config_file, videofile_path, videotype=VideoType, shuffle=shuffle, track_method=tracktype)"
      ]
    },
    {
      "cell_type": "markdown",
      "metadata": {
        "id": "pqaCw15v8EmB"
      },
      "source": [
        "Now you can look at the plot-poses file and check the \"plot-likelihood.png\" might want to change the \"p-cutoff\" in the config.yaml file so that you have only high confidnece points plotted in the video. i.e. ~0.8 or 0.9. The current default is 0.4."
      ]
    }
  ],
  "metadata": {
    "accelerator": "GPU",
    "colab": {
      "provenance": [],
      "gpuType": "T4"
    },
    "kernelspec": {
      "display_name": "Python 3",
      "name": "python3"
    },
    "language_info": {
      "codemirror_mode": {
        "name": "ipython",
        "version": 3
      },
      "file_extension": ".py",
      "mimetype": "text/x-python",
      "name": "python",
      "nbconvert_exporter": "python",
      "pygments_lexer": "ipython3",
      "version": "3.10.12"
    }
  },
  "nbformat": 4,
  "nbformat_minor": 0
}