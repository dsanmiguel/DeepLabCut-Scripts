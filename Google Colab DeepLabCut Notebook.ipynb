{
  "cells": [
    {
      "cell_type": "markdown",
      "metadata": {
        "id": "RK255E7YoEIt"
      },
      "source": [
        "# DeepLabCut\n",
        "\n",
        "*This notebook is based off of the outdated multi-animal GoogleColab tutorial notebook on the DeepLabCut website. It has been edited and updated with fixes to make it work*\n",
        "# ***If you plan to use this script please cite me***\n",
        "***Daniel Anthony San Miguel Jr., PhD Student at The University of Texas at Austin, College of Pharmacy, Division of Pharmacology & Toxicology, https://github.com/dsanmiguel/DeepLabCut-Scripts/***\n",
        "\n",
        "![alt text](https://images.squarespace-cdn.com/content/v1/57f6d51c9f74566f55ecf271/1628180434489-T0RIWEJJU0FJVOT6FNVD/maDLC.png?format=200w)\n",
        "\n",
        "https://github.com/DeepLabCut/DeepLabCut\n",
        "\n",
        "### This notebook demonstrates the necessary steps to use DeepLabCut for your own project and illustrates how to use a single animal project with a Google Colab installed version of DeepLabCut to:\n",
        "\n",
        "- create a single-animal training set\n",
        "- train a network\n",
        "- evaluate a network\n",
        "- analyze novel videos\n",
        "- train additional videos on trained model\n",
        "- assemble animals and tracklets\n",
        "- create quality check plots\n",
        "\n",
        "### *This notebook assumes you already have a DLC project folder with labeled data and you uploaded it to Google Drive already*\n"
      ]
    },
    {
      "cell_type": "markdown",
      "source": [
        "## **First, go to \"Runtime\" ->\"change runtime type\"->select \"Python3\", and then select \"T4 GPU\"**"
      ],
      "metadata": {
        "id": "7Y7MVEkbJkjA"
      }
    },
    {
      "cell_type": "markdown",
      "source": [
        "## This first code cell below installs all the dependencies needed to run DeepLabCut in Google Colab as well as DeepLabCut itself (no GUI available in Colab).\n",
        "## ***This takes about 15-20 minutes to install and set up everything before any other cells below can be ran***"
      ],
      "metadata": {
        "id": "tPhqvnnHIsNT"
      }
    },
    {
      "cell_type": "code",
      "source": [
        "# Upgrade python package manager\n",
        "!pip3 install --upgrade pip\n",
        "\n",
        "# Install deeplabcut\n",
        "!pip3 install -qqq deeplabcut\n",
        "%reload_ext numpy\n",
        "%reload_ext scipy\n",
        "%reload_ext matplotlib\n",
        "%reload_ext mpl_toolkits\n",
        "\n",
        "# Install deeplabcut google colab specific things\n",
        "!pip3 install -qqq --upgrade scikit-image\n",
        "!pip3 install -qqq pickle5\n",
        "!pip3 install -qqq torch\n",
        "\n",
        "# this is so the next line when installing updated cuda doesn't ask for keyboard interaction\n",
        "!DEBIAN_FRONTEND=noninteractive apt-get install keyboard-configuration\n",
        "\n",
        "# Update cuda to latest version\n",
        "!wget https://developer.download.nvidia.com/compute/cuda/repos/ubuntu2204/x86_64/cuda-keyring_1.1-1_all.deb\n",
        "!sudo dpkg -i cuda-keyring_1.1-1_all.deb\n",
        "!sudo apt-get update\n",
        "!sudo apt-get -y install cuda\n",
        "\n",
        "# This is just to check what version of cuda we have now to make sure it installed correctly\n",
        "#!nvcc --version\n",
        "\n",
        "# This line below is just to search for the name of specific libcudnn8 package to then install in the following line\n",
        "#!apt-cache policy libcudnn8\n",
        "\n",
        "# This installs the updated version of libcudnn8 we need that we got from the output above\n",
        "!sudo apt install --allow-change-held-packages libcudnn8=8.9.5.29-1+cuda12.2\n",
        "\n",
        "# Add newly installed cuda version to PATH\n",
        "!export PATH=/usr/local/cuda-12.2/bin${PATH:+:${PATH}}\n",
        "!export LD_LIBRARY_PATH=/usr/local/cuda-12.2/lib64:$LD_LIBRARY_PATH\n",
        "!export LD_LIBRARY_PATH=/usr/local/cuda-12.2/include:$LD_LIBRARY_PATH\n",
        "!export LD_LIBRARY_PATH=$LD_LIBRARY_PATH:/usr/local/cuda/extras/CUPTI/lib64\n",
        "\n",
        "# Downgrade tensorflow to older version otherwise deeplabcut.train_network won't work later\n",
        "!pip3 uninstall -y -qqq tensorflow\n",
        "!pip3 install -qqq tensorflow==2.8.0\n",
        "\n",
        "# Install other dependency packages\n",
        "!pip3 install -qqq segmentation-models\n",
        "!pip3 install -qqq pycocotools\n",
        "!pip3 install -qqq opencv-python-headless"
      ],
      "metadata": {
        "id": "egZaIiScbeM4",
        "colab": {
          "base_uri": "https://localhost:8080/"
        },
        "outputId": "536db15c-3e5a-4099-bb30-877804ed51e5"
      },
      "execution_count": 1,
      "outputs": [
        {
          "output_type": "stream",
          "name": "stdout",
          "text": [
            "Requirement already satisfied: pip in /usr/local/lib/python3.10/dist-packages (23.1.2)\n",
            "Collecting pip\n",
            "  Downloading pip-23.3-py3-none-any.whl (2.1 MB)\n",
            "\u001b[2K     \u001b[90m━━━━━━━━━━━━━━━━━━━━━━━━━━━━━━━━━━━━━━━━\u001b[0m \u001b[32m2.1/2.1 MB\u001b[0m \u001b[31m16.7 MB/s\u001b[0m eta \u001b[36m0:00:00\u001b[0m\n",
            "\u001b[?25hInstalling collected packages: pip\n",
            "  Attempting uninstall: pip\n",
            "    Found existing installation: pip 23.1.2\n",
            "    Uninstalling pip-23.1.2:\n",
            "      Successfully uninstalled pip-23.1.2\n",
            "Successfully installed pip-23.3\n",
            "\u001b[2K     \u001b[90m━━━━━━━━━━━━━━━━━━━━━━━━━━━━━━━━━━━━━━━━\u001b[0m \u001b[32m178.0/178.0 kB\u001b[0m \u001b[31m8.1 MB/s\u001b[0m eta \u001b[36m0:00:00\u001b[0m\n",
            "\u001b[?25h  Preparing metadata (setup.py) ... \u001b[?25l\u001b[?25hdone\n",
            "\u001b[2K     \u001b[90m━━━━━━━━━━━━━━━━━━━━━━━━━━━━━━━━━━━━━━━━\u001b[0m \u001b[32m776.3/776.3 MB\u001b[0m \u001b[31m2.5 MB/s\u001b[0m eta \u001b[36m0:00:00\u001b[0m\n",
            "\u001b[2K     \u001b[90m━━━━━━━━━━━━━━━━━━━━━━━━━━━━━━━━━━━━━━━━\u001b[0m \u001b[32m296.3/296.3 kB\u001b[0m \u001b[31m24.8 MB/s\u001b[0m eta \u001b[36m0:00:00\u001b[0m\n",
            "\u001b[2K   \u001b[90m━━━━━━━━━━━━━━━━━━━━━━━━━━━━━━━━━━━━━━━━\u001b[0m \u001b[32m1.4/1.4 MB\u001b[0m \u001b[31m66.2 MB/s\u001b[0m eta \u001b[36m0:00:00\u001b[0m\n",
            "\u001b[2K   \u001b[90m━━━━━━━━━━━━━━━━━━━━━━━━━━━━━━━━━━━━━━━━\u001b[0m \u001b[32m112.9/112.9 kB\u001b[0m \u001b[31m10.1 MB/s\u001b[0m eta \u001b[36m0:00:00\u001b[0m\n",
            "\u001b[2K   \u001b[90m━━━━━━━━━━━━━━━━━━━━━━━━━━━━━━━━━━━━━━━━\u001b[0m \u001b[32m526.7/526.7 kB\u001b[0m \u001b[31m37.9 MB/s\u001b[0m eta \u001b[36m0:00:00\u001b[0m\n",
            "\u001b[2K   \u001b[90m━━━━━━━━━━━━━━━━━━━━━━━━━━━━━━━━━━━━━━━━\u001b[0m \u001b[32m302.0/302.0 kB\u001b[0m \u001b[31m24.2 MB/s\u001b[0m eta \u001b[36m0:00:00\u001b[0m\n",
            "\u001b[?25h  Building wheel for filterpy (setup.py) ... \u001b[?25l\u001b[?25hdone\n",
            "\u001b[31mERROR: pip's dependency resolver does not currently take into account all the packages that are installed. This behaviour is the source of the following dependency conflicts.\n",
            "torchaudio 2.0.2+cu118 requires torch==2.0.1, but you have torch 1.12.0 which is incompatible.\n",
            "torchdata 0.6.1 requires torch==2.0.1, but you have torch 1.12.0 which is incompatible.\n",
            "torchtext 0.15.2 requires torch==2.0.1, but you have torch 1.12.0 which is incompatible.\n",
            "torchvision 0.15.2+cu118 requires torch==2.0.1, but you have torch 1.12.0 which is incompatible.\u001b[0m\u001b[31m\n",
            "\u001b[0m\u001b[33mWARNING: Running pip as the 'root' user can result in broken permissions and conflicting behaviour with the system package manager. It is recommended to use a virtual environment instead: https://pip.pypa.io/warnings/venv\u001b[0m\u001b[33m\n",
            "\u001b[2K   \u001b[90m━━━━━━━━━━━━━━━━━━━━━━━━━━━━━━━━━━━━━━━━\u001b[0m \u001b[32m14.7/14.7 MB\u001b[0m \u001b[31m50.1 MB/s\u001b[0m eta \u001b[36m0:00:00\u001b[0m\n",
            "\u001b[?25h\u001b[33mWARNING: Running pip as the 'root' user can result in broken permissions and conflicting behaviour with the system package manager. It is recommended to use a virtual environment instead: https://pip.pypa.io/warnings/venv\u001b[0m\u001b[33m\n",
            "\u001b[2K     \u001b[90m━━━━━━━━━━━━━━━━━━━━━━━━━━━━━━━━━━━━━━━━\u001b[0m \u001b[32m132.1/132.1 kB\u001b[0m \u001b[31m3.1 MB/s\u001b[0m eta \u001b[36m0:00:00\u001b[0m\n",
            "\u001b[?25h  Preparing metadata (setup.py) ... \u001b[?25l\u001b[?25hdone\n",
            "  Building wheel for pickle5 (setup.py) ... \u001b[?25l\u001b[?25hdone\n",
            "\u001b[33mWARNING: Running pip as the 'root' user can result in broken permissions and conflicting behaviour with the system package manager. It is recommended to use a virtual environment instead: https://pip.pypa.io/warnings/venv\u001b[0m\u001b[33m\n",
            "\u001b[0m\u001b[33mWARNING: Running pip as the 'root' user can result in broken permissions and conflicting behaviour with the system package manager. It is recommended to use a virtual environment instead: https://pip.pypa.io/warnings/venv\u001b[0m\u001b[33m\n",
            "Reading package lists... Done\n",
            "Building dependency tree... Done\n",
            "Reading state information... Done\n",
            "The following additional packages will be installed:\n",
            "  liblocale-gettext-perl\n",
            "The following NEW packages will be installed:\n",
            "  keyboard-configuration liblocale-gettext-perl\n",
            "0 upgraded, 2 newly installed, 0 to remove and 18 not upgraded.\n",
            "Need to get 223 kB of archives.\n",
            "After this operation, 923 kB of additional disk space will be used.\n",
            "Get:1 http://archive.ubuntu.com/ubuntu jammy/main amd64 liblocale-gettext-perl amd64 1.07-4build3 [17.1 kB]\n",
            "Get:2 http://archive.ubuntu.com/ubuntu jammy/main amd64 keyboard-configuration all 1.205ubuntu3 [206 kB]\n",
            "Fetched 223 kB in 0s (619 kB/s)\n",
            "Preconfiguring packages ...\n",
            "Selecting previously unselected package liblocale-gettext-perl.\n",
            "(Reading database ... 120876 files and directories currently installed.)\n",
            "Preparing to unpack .../liblocale-gettext-perl_1.07-4build3_amd64.deb ...\n",
            "Unpacking liblocale-gettext-perl (1.07-4build3) ...\n",
            "Selecting previously unselected package keyboard-configuration.\n",
            "Preparing to unpack .../keyboard-configuration_1.205ubuntu3_all.deb ...\n",
            "Unpacking keyboard-configuration (1.205ubuntu3) ...\n",
            "Setting up liblocale-gettext-perl (1.07-4build3) ...\n",
            "Setting up keyboard-configuration (1.205ubuntu3) ...\n",
            "Your console font configuration will be updated the next time your system\n",
            "boots. If you want to update it now, run 'setupcon' from a virtual console.\n",
            "Processing triggers for man-db (2.10.2-1) ...\n",
            "--2023-10-18 20:17:45--  https://developer.download.nvidia.com/compute/cuda/repos/ubuntu2204/x86_64/cuda-keyring_1.1-1_all.deb\n",
            "Resolving developer.download.nvidia.com (developer.download.nvidia.com)... 152.199.20.126\n",
            "Connecting to developer.download.nvidia.com (developer.download.nvidia.com)|152.199.20.126|:443... connected.\n",
            "HTTP request sent, awaiting response... 200 OK\n",
            "Length: 4332 (4.2K) [application/x-deb]\n",
            "Saving to: ‘cuda-keyring_1.1-1_all.deb’\n",
            "\n",
            "cuda-keyring_1.1-1_ 100%[===================>]   4.23K  --.-KB/s    in 0s      \n",
            "\n",
            "2023-10-18 20:17:45 (130 MB/s) - ‘cuda-keyring_1.1-1_all.deb’ saved [4332/4332]\n",
            "\n",
            "(Reading database ... 120910 files and directories currently installed.)\n",
            "Preparing to unpack cuda-keyring_1.1-1_all.deb ...\n",
            "Unpacking cuda-keyring (1.1-1) over (1.0-1) ...\n",
            "Setting up cuda-keyring (1.1-1) ...\n",
            "Get:1 https://cloud.r-project.org/bin/linux/ubuntu jammy-cran40/ InRelease [3,626 B]\n",
            "Get:2 https://ppa.launchpadcontent.net/c2d4u.team/c2d4u4.0+/ubuntu jammy InRelease [18.1 kB]\n",
            "Hit:3 https://developer.download.nvidia.com/compute/cuda/repos/ubuntu2204/x86_64  InRelease\n",
            "Hit:4 https://ppa.launchpadcontent.net/deadsnakes/ppa/ubuntu jammy InRelease\n",
            "Get:5 http://security.ubuntu.com/ubuntu jammy-security InRelease [110 kB]\n",
            "Hit:6 http://archive.ubuntu.com/ubuntu jammy InRelease\n",
            "Hit:7 https://ppa.launchpadcontent.net/graphics-drivers/ppa/ubuntu jammy InRelease\n",
            "Hit:8 https://ppa.launchpadcontent.net/ubuntugis/ppa/ubuntu jammy InRelease\n",
            "Get:9 https://ppa.launchpadcontent.net/c2d4u.team/c2d4u4.0+/ubuntu jammy/main Sources [2,229 kB]\n",
            "Get:10 https://ppa.launchpadcontent.net/c2d4u.team/c2d4u4.0+/ubuntu jammy/main amd64 Packages [1,144 kB]\n",
            "Get:11 http://archive.ubuntu.com/ubuntu jammy-updates InRelease [119 kB]\n",
            "Get:12 http://archive.ubuntu.com/ubuntu jammy-backports InRelease [109 kB]\n",
            "Get:13 http://security.ubuntu.com/ubuntu jammy-security/universe amd64 Packages [1,005 kB]\n",
            "Get:14 http://archive.ubuntu.com/ubuntu jammy-updates/restricted amd64 Packages [1,254 kB]\n",
            "Get:15 http://archive.ubuntu.com/ubuntu jammy-updates/universe amd64 Packages [1,271 kB]\n",
            "Get:16 http://security.ubuntu.com/ubuntu jammy-security/main amd64 Packages [1,082 kB]\n",
            "Get:17 http://archive.ubuntu.com/ubuntu jammy-updates/main amd64 Packages [1,351 kB]\n",
            "Fetched 9,696 kB in 3s (3,711 kB/s)\n",
            "Reading package lists... Done\n",
            "Reading package lists... Done\n",
            "Building dependency tree... Done\n",
            "Reading state information... Done\n",
            "The following additional packages will be installed:\n",
            "  cpp-12 cuda-12-2 cuda-cccl-12-2 cuda-command-line-tools-12-2\n",
            "  cuda-compiler-12-2 cuda-crt-12-2 cuda-cudart-12-2 cuda-cudart-dev-12-2\n",
            "  cuda-cuobjdump-12-2 cuda-cupti-12-2 cuda-cupti-dev-12-2 cuda-cuxxfilt-12-2\n",
            "  cuda-demo-suite-12-2 cuda-documentation-12-2 cuda-driver-dev-12-2\n",
            "  cuda-drivers cuda-drivers-535 cuda-gdb-12-2 cuda-libraries-12-2\n",
            "  cuda-libraries-dev-12-2 cuda-nsight-12-2 cuda-nsight-compute-12-2\n",
            "  cuda-nsight-systems-12-2 cuda-nvcc-12-2 cuda-nvdisasm-12-2\n",
            "  cuda-nvml-dev-12-2 cuda-nvprof-12-2 cuda-nvprune-12-2 cuda-nvrtc-12-2\n",
            "  cuda-nvrtc-dev-12-2 cuda-nvtx-12-2 cuda-nvvm-12-2 cuda-nvvp-12-2\n",
            "  cuda-opencl-12-2 cuda-opencl-dev-12-2 cuda-profiler-api-12-2\n",
            "  cuda-runtime-12-2 cuda-sanitizer-12-2 cuda-toolkit-12-2\n",
            "  cuda-toolkit-12-2-config-common cuda-toolkit-12-config-common\n",
            "  cuda-tools-12-2 cuda-visual-tools-12-2 dctrl-tools default-jre\n",
            "  default-jre-headless dkms fakeroot fonts-dejavu-core fonts-dejavu-extra\n",
            "  gcc-12 gds-tools-12-2 libasan8 libatk-wrapper-java libatk-wrapper-java-jni\n",
            "  libcublas-12-2 libcublas-dev-12-2 libcufft-12-2 libcufft-dev-12-2\n",
            "  libcufile-12-2 libcufile-dev-12-2 libcurand-12-2 libcurand-dev-12-2\n",
            "  libcusolver-12-2 libcusolver-dev-12-2 libcusparse-12-2 libcusparse-dev-12-2\n",
            "  libfakeroot libfontenc1 libgcc-12-dev libjansson4 libnpp-12-2\n",
            "  libnpp-dev-12-2 libnvidia-cfg1-535 libnvidia-common-535\n",
            "  libnvidia-compute-535 libnvidia-decode-535 libnvidia-encode-535\n",
            "  libnvidia-extra-535 libnvidia-fbc1-535 libnvidia-gl-535 libnvjitlink-12-2\n",
            "  libnvjitlink-dev-12-2 libnvjpeg-12-2 libnvjpeg-dev-12-2 libtinfo5 libtsan2\n",
            "  libudev1 libxcb-icccm4 libxcb-image0 libxcb-keysyms1 libxcb-render-util0\n",
            "  libxcb-util1 libxcb-xinerama0 libxcb-xinput0 libxcb-xkb1 libxcvt0 libxfont2\n",
            "  libxkbcommon-x11-0 libxkbfile1 libxtst6 libxxf86dga1 nsight-compute-2023.2.2\n",
            "  nsight-systems-2023.2.3 nvidia-compute-utils-535 nvidia-dkms-535\n",
            "  nvidia-driver-535 nvidia-kernel-common-535 nvidia-kernel-source-535\n",
            "  nvidia-modprobe nvidia-prime nvidia-settings nvidia-utils-535 openjdk-11-jre\n",
            "  python3-xkit screen-resolution-extra systemd-hwe-hwdb udev x11-utils\n",
            "  x11-xkb-utils xcvt xfonts-base xfonts-encodings xfonts-utils xserver-common\n",
            "  xserver-xorg-core xserver-xorg-video-nvidia-535\n",
            "Suggested packages:\n",
            "  gcc-12-locales cpp-12-doc debtags menu gcc-12-multilib gcc-12-doc mesa-utils\n",
            "  xfs | xserver xfonts-100dpi | xfonts-75dpi xfonts-scalable\n",
            "Recommended packages:\n",
            "  libnvidia-compute-535:i386 libnvidia-decode-535:i386\n",
            "  libnvidia-encode-535:i386 libnvidia-fbc1-535:i386 libnvidia-gl-535:i386\n",
            "The following NEW packages will be installed:\n",
            "  cpp-12 cuda cuda-12-2 cuda-cccl-12-2 cuda-command-line-tools-12-2\n",
            "  cuda-compiler-12-2 cuda-crt-12-2 cuda-cudart-12-2 cuda-cudart-dev-12-2\n",
            "  cuda-cuobjdump-12-2 cuda-cupti-12-2 cuda-cupti-dev-12-2 cuda-cuxxfilt-12-2\n",
            "  cuda-demo-suite-12-2 cuda-documentation-12-2 cuda-driver-dev-12-2\n",
            "  cuda-drivers cuda-drivers-535 cuda-gdb-12-2 cuda-libraries-12-2\n",
            "  cuda-libraries-dev-12-2 cuda-nsight-12-2 cuda-nsight-compute-12-2\n",
            "  cuda-nsight-systems-12-2 cuda-nvcc-12-2 cuda-nvdisasm-12-2\n",
            "  cuda-nvml-dev-12-2 cuda-nvprof-12-2 cuda-nvprune-12-2 cuda-nvrtc-12-2\n",
            "  cuda-nvrtc-dev-12-2 cuda-nvtx-12-2 cuda-nvvm-12-2 cuda-nvvp-12-2\n",
            "  cuda-opencl-12-2 cuda-opencl-dev-12-2 cuda-profiler-api-12-2\n",
            "  cuda-runtime-12-2 cuda-sanitizer-12-2 cuda-toolkit-12-2\n",
            "  cuda-toolkit-12-2-config-common cuda-toolkit-12-config-common\n",
            "  cuda-tools-12-2 cuda-visual-tools-12-2 dctrl-tools default-jre\n",
            "  default-jre-headless dkms fakeroot fonts-dejavu-core fonts-dejavu-extra\n",
            "  gcc-12 gds-tools-12-2 libasan8 libatk-wrapper-java libatk-wrapper-java-jni\n",
            "  libcublas-12-2 libcublas-dev-12-2 libcufft-12-2 libcufft-dev-12-2\n",
            "  libcufile-12-2 libcufile-dev-12-2 libcurand-12-2 libcurand-dev-12-2\n",
            "  libcusolver-12-2 libcusolver-dev-12-2 libcusparse-12-2 libcusparse-dev-12-2\n",
            "  libfakeroot libfontenc1 libgcc-12-dev libjansson4 libnpp-12-2\n",
            "  libnpp-dev-12-2 libnvidia-cfg1-535 libnvidia-common-535\n",
            "  libnvidia-compute-535 libnvidia-decode-535 libnvidia-encode-535\n",
            "  libnvidia-extra-535 libnvidia-fbc1-535 libnvidia-gl-535 libnvjitlink-12-2\n",
            "  libnvjitlink-dev-12-2 libnvjpeg-12-2 libnvjpeg-dev-12-2 libtinfo5 libtsan2\n",
            "  libxcb-icccm4 libxcb-image0 libxcb-keysyms1 libxcb-render-util0 libxcb-util1\n",
            "  libxcb-xinerama0 libxcb-xinput0 libxcb-xkb1 libxcvt0 libxfont2\n",
            "  libxkbcommon-x11-0 libxkbfile1 libxtst6 libxxf86dga1 nsight-compute-2023.2.2\n",
            "  nsight-systems-2023.2.3 nvidia-compute-utils-535 nvidia-dkms-535\n",
            "  nvidia-driver-535 nvidia-kernel-common-535 nvidia-kernel-source-535\n",
            "  nvidia-modprobe nvidia-prime nvidia-settings nvidia-utils-535 openjdk-11-jre\n",
            "  python3-xkit screen-resolution-extra systemd-hwe-hwdb udev x11-utils\n",
            "  x11-xkb-utils xcvt xfonts-base xfonts-encodings xfonts-utils xserver-common\n",
            "  xserver-xorg-core xserver-xorg-video-nvidia-535\n",
            "The following packages will be upgraded:\n",
            "  libudev1\n",
            "1 upgraded, 127 newly installed, 0 to remove and 17 not upgraded.\n",
            "Need to get 3,185 MB of archives.\n",
            "After this operation, 7,346 MB of additional disk space will be used.\n",
            "Get:1 https://developer.download.nvidia.com/compute/cuda/repos/ubuntu2204/x86_64  cuda-toolkit-12-config-common 12.2.140-1 [16.4 kB]\n",
            "Get:2 https://developer.download.nvidia.com/compute/cuda/repos/ubuntu2204/x86_64  cuda-toolkit-12-2-config-common 12.2.140-1 [16.3 kB]\n",
            "Get:3 https://developer.download.nvidia.com/compute/cuda/repos/ubuntu2204/x86_64  cuda-cudart-12-2 12.2.140-1 [161 kB]\n",
            "Get:4 https://developer.download.nvidia.com/compute/cuda/repos/ubuntu2204/x86_64  cuda-nvrtc-12-2 12.2.140-1 [17.3 MB]\n",
            "Get:5 http://archive.ubuntu.com/ubuntu jammy-updates/main amd64 cpp-12 amd64 12.3.0-1ubuntu1~22.04 [10.8 MB]\n",
            "Get:6 https://developer.download.nvidia.com/compute/cuda/repos/ubuntu2204/x86_64  cuda-opencl-12-2 12.2.140-1 [23.8 kB]\n",
            "Get:7 https://developer.download.nvidia.com/compute/cuda/repos/ubuntu2204/x86_64  libcublas-12-2 12.2.5.6-1 [249 MB]\n",
            "Get:8 http://archive.ubuntu.com/ubuntu jammy-updates/main amd64 libasan8 amd64 12.3.0-1ubuntu1~22.04 [2,442 kB]\n",
            "Get:9 http://archive.ubuntu.com/ubuntu jammy-updates/main amd64 libtsan2 amd64 12.3.0-1ubuntu1~22.04 [2,477 kB]\n",
            "Get:10 http://archive.ubuntu.com/ubuntu jammy-updates/main amd64 libgcc-12-dev amd64 12.3.0-1ubuntu1~22.04 [2,618 kB]\n",
            "Get:11 http://archive.ubuntu.com/ubuntu jammy-updates/main amd64 gcc-12 amd64 12.3.0-1ubuntu1~22.04 [21.7 MB]\n",
            "Get:12 http://archive.ubuntu.com/ubuntu jammy/main amd64 dctrl-tools amd64 2.24-3build2 [66.9 kB]\n",
            "Get:13 http://archive.ubuntu.com/ubuntu jammy-updates/main amd64 dkms all 2.8.7-2ubuntu2.2 [70.1 kB]\n",
            "Get:14 http://archive.ubuntu.com/ubuntu jammy-updates/main amd64 libudev1 amd64 249.11-0ubuntu3.10 [78.0 kB]\n",
            "Get:15 http://archive.ubuntu.com/ubuntu jammy-updates/main amd64 udev amd64 249.11-0ubuntu3.10 [1,557 kB]\n",
            "Get:16 http://archive.ubuntu.com/ubuntu jammy/main amd64 libjansson4 amd64 2.13.1-1.1build3 [32.4 kB]\n",
            "Get:17 http://archive.ubuntu.com/ubuntu jammy/main amd64 libxkbfile1 amd64 1:1.1.0-1build3 [71.8 kB]\n",
            "Get:18 http://archive.ubuntu.com/ubuntu jammy/main amd64 x11-xkb-utils amd64 7.7+5build4 [172 kB]\n",
            "Get:19 http://archive.ubuntu.com/ubuntu jammy-updates/main amd64 xserver-common all 2:21.1.4-2ubuntu1.7~22.04.1 [28.0 kB]\n",
            "Get:20 http://archive.ubuntu.com/ubuntu jammy/main amd64 libxcvt0 amd64 0.1.1-3 [5,494 B]\n",
            "Get:21 http://archive.ubuntu.com/ubuntu jammy/main amd64 libfontenc1 amd64 1:1.1.4-1build3 [14.7 kB]\n",
            "Get:22 http://archive.ubuntu.com/ubuntu jammy/main amd64 libxfont2 amd64 1:2.0.5-1build1 [94.5 kB]\n",
            "Get:23 http://archive.ubuntu.com/ubuntu jammy-updates/main amd64 xserver-xorg-core amd64 2:21.1.4-2ubuntu1.7~22.04.1 [1,476 kB]\n",
            "Get:24 http://archive.ubuntu.com/ubuntu jammy/main amd64 python3-xkit all 0.5.0ubuntu5 [18.5 kB]\n",
            "Get:25 http://archive.ubuntu.com/ubuntu jammy/main amd64 screen-resolution-extra all 0.18.2 [4,396 B]\n",
            "Get:26 http://archive.ubuntu.com/ubuntu jammy-updates/universe amd64 libtinfo5 amd64 6.3-2ubuntu0.1 [100 kB]\n",
            "Get:27 http://archive.ubuntu.com/ubuntu jammy/main amd64 libxcb-xinerama0 amd64 1.14-3ubuntu3 [5,414 B]\n",
            "Get:28 http://archive.ubuntu.com/ubuntu jammy/main amd64 libxcb-icccm4 amd64 0.4.1-1.1build2 [11.5 kB]\n",
            "Get:29 http://archive.ubuntu.com/ubuntu jammy/main amd64 libxcb-util1 amd64 0.4.0-1build2 [11.4 kB]\n",
            "Get:30 http://archive.ubuntu.com/ubuntu jammy/main amd64 libxcb-image0 amd64 0.4.0-2 [11.5 kB]\n",
            "Get:31 http://archive.ubuntu.com/ubuntu jammy/main amd64 libxcb-keysyms1 amd64 0.4.0-1build3 [8,746 B]\n",
            "Get:32 http://archive.ubuntu.com/ubuntu jammy/main amd64 libxcb-render-util0 amd64 0.3.9-1build3 [10.3 kB]\n",
            "Get:33 http://archive.ubuntu.com/ubuntu jammy/main amd64 libxcb-xkb1 amd64 1.14-3ubuntu3 [32.8 kB]\n",
            "Get:34 http://archive.ubuntu.com/ubuntu jammy/main amd64 libxkbcommon-x11-0 amd64 1.4.0-1 [14.4 kB]\n",
            "Get:35 http://archive.ubuntu.com/ubuntu jammy/main amd64 libxcb-xinput0 amd64 1.14-3ubuntu3 [34.3 kB]\n",
            "Get:36 http://archive.ubuntu.com/ubuntu jammy/main amd64 libxtst6 amd64 2:1.2.3-1build4 [13.4 kB]\n",
            "Get:37 http://archive.ubuntu.com/ubuntu jammy/main amd64 default-jre-headless amd64 2:1.11-72build2 [3,042 B]\n",
            "Get:38 http://archive.ubuntu.com/ubuntu jammy-updates/main amd64 openjdk-11-jre amd64 11.0.20.1+1-0ubuntu1~22.04 [213 kB]\n",
            "Get:39 http://archive.ubuntu.com/ubuntu jammy/main amd64 default-jre amd64 2:1.11-72build2 [896 B]\n",
            "Get:40 http://archive.ubuntu.com/ubuntu jammy/main amd64 libfakeroot amd64 1.28-1ubuntu1 [31.5 kB]\n",
            "Get:41 https://developer.download.nvidia.com/compute/cuda/repos/ubuntu2204/x86_64  libcufft-12-2 11.0.8.103-1 [58.0 MB]\n",
            "Get:42 http://archive.ubuntu.com/ubuntu jammy/main amd64 fakeroot amd64 1.28-1ubuntu1 [60.4 kB]\n",
            "Get:43 http://archive.ubuntu.com/ubuntu jammy/main amd64 fonts-dejavu-core all 2.37-2build1 [1,041 kB]\n",
            "Get:44 http://archive.ubuntu.com/ubuntu jammy/main amd64 fonts-dejavu-extra all 2.37-2build1 [2,041 kB]\n",
            "Get:45 http://archive.ubuntu.com/ubuntu jammy/main amd64 libxxf86dga1 amd64 2:1.1.5-0ubuntu3 [12.6 kB]\n",
            "Get:46 http://archive.ubuntu.com/ubuntu jammy/main amd64 x11-utils amd64 7.7+5build2 [206 kB]\n",
            "Get:47 http://archive.ubuntu.com/ubuntu jammy/main amd64 libatk-wrapper-java all 0.38.0-5build1 [53.1 kB]\n",
            "Get:48 http://archive.ubuntu.com/ubuntu jammy/main amd64 libatk-wrapper-java-jni amd64 0.38.0-5build1 [49.0 kB]\n",
            "Get:49 http://archive.ubuntu.com/ubuntu jammy/main amd64 nvidia-prime all 0.8.17.1 [9,956 B]\n",
            "Get:50 http://archive.ubuntu.com/ubuntu jammy-updates/main amd64 systemd-hwe-hwdb all 249.11.3 [2,908 B]\n",
            "Get:51 http://archive.ubuntu.com/ubuntu jammy/main amd64 xcvt amd64 0.1.1-3 [7,140 B]\n",
            "Get:52 http://archive.ubuntu.com/ubuntu jammy/main amd64 xfonts-encodings all 1:1.0.5-0ubuntu2 [578 kB]\n",
            "Get:53 http://archive.ubuntu.com/ubuntu jammy/main amd64 xfonts-utils amd64 1:7.7+6build2 [94.6 kB]\n",
            "Get:54 http://archive.ubuntu.com/ubuntu jammy/main amd64 xfonts-base all 1:1.0.5 [5,896 kB]\n",
            "Get:55 https://developer.download.nvidia.com/compute/cuda/repos/ubuntu2204/x86_64  libcufile-12-2 1.7.2.10-1 [840 kB]\n",
            "Get:56 https://developer.download.nvidia.com/compute/cuda/repos/ubuntu2204/x86_64  libcurand-12-2 10.3.3.141-1 [41.4 MB]\n",
            "Get:57 https://developer.download.nvidia.com/compute/cuda/repos/ubuntu2204/x86_64  libcusolver-12-2 11.5.2.141-1 [77.2 MB]\n",
            "Get:58 https://developer.download.nvidia.com/compute/cuda/repos/ubuntu2204/x86_64  libcusparse-12-2 12.1.2.141-1 [107 MB]\n",
            "Get:59 https://developer.download.nvidia.com/compute/cuda/repos/ubuntu2204/x86_64  libnpp-12-2 12.2.1.4-1 [95.2 MB]\n",
            "Get:60 https://developer.download.nvidia.com/compute/cuda/repos/ubuntu2204/x86_64  libnvjitlink-12-2 12.2.140-1 [15.1 MB]\n",
            "Get:61 https://developer.download.nvidia.com/compute/cuda/repos/ubuntu2204/x86_64  libnvjpeg-12-2 12.2.2.4-1 [2,327 kB]\n",
            "Get:62 https://developer.download.nvidia.com/compute/cuda/repos/ubuntu2204/x86_64  cuda-libraries-12-2 12.2.2-1 [2,594 B]\n",
            "Get:63 https://developer.download.nvidia.com/compute/cuda/repos/ubuntu2204/x86_64  libnvidia-common-535 535.104.12-0ubuntu1 [19.0 kB]\n",
            "Get:64 https://developer.download.nvidia.com/compute/cuda/repos/ubuntu2204/x86_64  libnvidia-compute-535 535.104.12-0ubuntu1 [36.8 MB]\n",
            "Get:65 https://developer.download.nvidia.com/compute/cuda/repos/ubuntu2204/x86_64  libnvidia-decode-535 535.104.12-0ubuntu1 [1,661 kB]\n",
            "Get:66 https://developer.download.nvidia.com/compute/cuda/repos/ubuntu2204/x86_64  libnvidia-encode-535 535.104.12-0ubuntu1 [90.1 kB]\n",
            "Get:67 https://developer.download.nvidia.com/compute/cuda/repos/ubuntu2204/x86_64  libnvidia-fbc1-535 535.104.12-0ubuntu1 [51.4 kB]\n",
            "Get:68 https://developer.download.nvidia.com/compute/cuda/repos/ubuntu2204/x86_64  libnvidia-gl-535 535.104.12-0ubuntu1 [182 MB]\n",
            "Get:69 https://developer.download.nvidia.com/compute/cuda/repos/ubuntu2204/x86_64  nvidia-compute-utils-535 535.104.12-0ubuntu1 [286 kB]\n",
            "Get:70 https://developer.download.nvidia.com/compute/cuda/repos/ubuntu2204/x86_64  nvidia-kernel-source-535 535.104.12-0ubuntu1 [44.5 MB]\n",
            "Get:71 https://developer.download.nvidia.com/compute/cuda/repos/ubuntu2204/x86_64  nvidia-kernel-common-535 535.104.12-0ubuntu1 [38.2 MB]\n",
            "Get:72 https://developer.download.nvidia.com/compute/cuda/repos/ubuntu2204/x86_64  nvidia-dkms-535 535.104.12-0ubuntu1 [33.4 kB]\n",
            "Get:73 https://developer.download.nvidia.com/compute/cuda/repos/ubuntu2204/x86_64  libnvidia-extra-535 535.104.12-0ubuntu1 [256 kB]\n",
            "Get:74 https://developer.download.nvidia.com/compute/cuda/repos/ubuntu2204/x86_64  nvidia-utils-535 535.104.12-0ubuntu1 [380 kB]\n",
            "Get:75 https://developer.download.nvidia.com/compute/cuda/repos/ubuntu2204/x86_64  libnvidia-cfg1-535 535.104.12-0ubuntu1 [99.4 kB]\n",
            "Get:76 https://developer.download.nvidia.com/compute/cuda/repos/ubuntu2204/x86_64  xserver-xorg-video-nvidia-535 535.104.12-0ubuntu1 [1,506 kB]\n",
            "Get:77 https://developer.download.nvidia.com/compute/cuda/repos/ubuntu2204/x86_64  nvidia-driver-535 535.104.12-0ubuntu1 [475 kB]\n",
            "Get:78 https://developer.download.nvidia.com/compute/cuda/repos/ubuntu2204/x86_64  nvidia-modprobe 535.104.12-0ubuntu1 [21.1 kB]\n",
            "Get:79 https://developer.download.nvidia.com/compute/cuda/repos/ubuntu2204/x86_64  nvidia-settings 535.104.12-0ubuntu1 [946 kB]\n",
            "Get:80 https://developer.download.nvidia.com/compute/cuda/repos/ubuntu2204/x86_64  cuda-drivers-535 535.104.12-1 [2,630 B]\n",
            "Get:81 https://developer.download.nvidia.com/compute/cuda/repos/ubuntu2204/x86_64  cuda-drivers 535.104.12-1 [2,502 B]\n",
            "Get:82 https://developer.download.nvidia.com/compute/cuda/repos/ubuntu2204/x86_64  cuda-runtime-12-2 12.2.2-1 [2,494 B]\n",
            "Get:83 https://developer.download.nvidia.com/compute/cuda/repos/ubuntu2204/x86_64  cuda-cuobjdump-12-2 12.2.140-1 [173 kB]\n",
            "Get:84 https://developer.download.nvidia.com/compute/cuda/repos/ubuntu2204/x86_64  cuda-cuxxfilt-12-2 12.2.140-1 [191 kB]\n",
            "Get:85 https://developer.download.nvidia.com/compute/cuda/repos/ubuntu2204/x86_64  cuda-cccl-12-2 12.2.140-1 [1,187 kB]\n",
            "Get:86 https://developer.download.nvidia.com/compute/cuda/repos/ubuntu2204/x86_64  cuda-driver-dev-12-2 12.2.140-1 [28.1 kB]\n",
            "Get:87 https://developer.download.nvidia.com/compute/cuda/repos/ubuntu2204/x86_64  cuda-cudart-dev-12-2 12.2.140-1 [968 kB]\n",
            "Get:88 https://developer.download.nvidia.com/compute/cuda/repos/ubuntu2204/x86_64  cuda-nvvm-12-2 12.2.140-1 [19.3 MB]\n",
            "Get:89 https://developer.download.nvidia.com/compute/cuda/repos/ubuntu2204/x86_64  cuda-crt-12-2 12.2.140-1 [76.3 kB]\n",
            "Get:90 https://developer.download.nvidia.com/compute/cuda/repos/ubuntu2204/x86_64  cuda-nvcc-12-2 12.2.140-1 [27.6 MB]\n",
            "Get:91 https://developer.download.nvidia.com/compute/cuda/repos/ubuntu2204/x86_64  cuda-nvprune-12-2 12.2.140-1 [58.4 kB]\n",
            "Get:92 https://developer.download.nvidia.com/compute/cuda/repos/ubuntu2204/x86_64  cuda-compiler-12-2 12.2.2-1 [2,502 B]\n",
            "Get:93 https://developer.download.nvidia.com/compute/cuda/repos/ubuntu2204/x86_64  cuda-profiler-api-12-2 12.2.140-1 [18.5 kB]\n",
            "Get:94 https://developer.download.nvidia.com/compute/cuda/repos/ubuntu2204/x86_64  cuda-nvrtc-dev-12-2 12.2.140-1 [14.0 MB]\n",
            "Get:95 https://developer.download.nvidia.com/compute/cuda/repos/ubuntu2204/x86_64  cuda-opencl-dev-12-2 12.2.140-1 [70.4 kB]\n",
            "Get:96 https://developer.download.nvidia.com/compute/cuda/repos/ubuntu2204/x86_64  libcublas-dev-12-2 12.2.5.6-1 [270 MB]\n",
            "Get:97 https://developer.download.nvidia.com/compute/cuda/repos/ubuntu2204/x86_64  libcufft-dev-12-2 11.0.8.103-1 [116 MB]\n",
            "Get:98 https://developer.download.nvidia.com/compute/cuda/repos/ubuntu2204/x86_64  libcufile-dev-12-2 1.7.2.10-1 [2,425 kB]\n",
            "Get:99 https://developer.download.nvidia.com/compute/cuda/repos/ubuntu2204/x86_64  libcurand-dev-12-2 10.3.3.141-1 [41.7 MB]\n",
            "Get:100 https://developer.download.nvidia.com/compute/cuda/repos/ubuntu2204/x86_64  libcusolver-dev-12-2 11.5.2.141-1 [48.7 MB]\n",
            "Get:101 https://developer.download.nvidia.com/compute/cuda/repos/ubuntu2204/x86_64  libcusparse-dev-12-2 12.1.2.141-1 [110 MB]\n",
            "Get:102 https://developer.download.nvidia.com/compute/cuda/repos/ubuntu2204/x86_64  libnpp-dev-12-2 12.2.1.4-1 [91.8 MB]\n",
            "Get:103 https://developer.download.nvidia.com/compute/cuda/repos/ubuntu2204/x86_64  libnvjitlink-dev-12-2 12.2.140-1 [11.6 MB]\n",
            "Get:104 https://developer.download.nvidia.com/compute/cuda/repos/ubuntu2204/x86_64  libnvjpeg-dev-12-2 12.2.2.4-1 [2,001 kB]\n",
            "Get:105 https://developer.download.nvidia.com/compute/cuda/repos/ubuntu2204/x86_64  cuda-libraries-dev-12-2 12.2.2-1 [2,630 B]\n",
            "Get:106 https://developer.download.nvidia.com/compute/cuda/repos/ubuntu2204/x86_64  cuda-cupti-12-2 12.2.142-1 [16.7 MB]\n",
            "Get:107 https://developer.download.nvidia.com/compute/cuda/repos/ubuntu2204/x86_64  cuda-cupti-dev-12-2 12.2.142-1 [2,587 kB]\n",
            "Get:108 https://developer.download.nvidia.com/compute/cuda/repos/ubuntu2204/x86_64  cuda-nvdisasm-12-2 12.2.140-1 [49.9 MB]\n",
            "Get:109 https://developer.download.nvidia.com/compute/cuda/repos/ubuntu2204/x86_64  cuda-gdb-12-2 12.2.140-1 [4,537 kB]\n",
            "Get:110 https://developer.download.nvidia.com/compute/cuda/repos/ubuntu2204/x86_64  cuda-nvprof-12-2 12.2.142-1 [2,438 kB]\n",
            "Get:111 https://developer.download.nvidia.com/compute/cuda/repos/ubuntu2204/x86_64  cuda-nvtx-12-2 12.2.140-1 [51.5 kB]\n",
            "Get:112 https://developer.download.nvidia.com/compute/cuda/repos/ubuntu2204/x86_64  cuda-sanitizer-12-2 12.2.140-1 [8,993 kB]\n",
            "Get:113 https://developer.download.nvidia.com/compute/cuda/repos/ubuntu2204/x86_64  cuda-command-line-tools-12-2 12.2.2-1 [2,538 B]\n",
            "Get:114 https://developer.download.nvidia.com/compute/cuda/repos/ubuntu2204/x86_64  nsight-compute-2023.2.2 2023.2.2.3-1 [721 MB]\n",
            "Get:115 https://developer.download.nvidia.com/compute/cuda/repos/ubuntu2204/x86_64  cuda-nsight-compute-12-2 12.2.2-1 [4,052 B]\n",
            "Get:116 https://developer.download.nvidia.com/compute/cuda/repos/ubuntu2204/x86_64  nsight-systems-2023.2.3 2023.2.3.1004-33186433v0 [318 MB]\n",
            "Get:117 https://developer.download.nvidia.com/compute/cuda/repos/ubuntu2204/x86_64  cuda-nsight-systems-12-2 12.2.2-1 [3,464 B]\n",
            "Get:118 https://developer.download.nvidia.com/compute/cuda/repos/ubuntu2204/x86_64  cuda-nsight-12-2 12.2.144-1 [119 MB]\n",
            "Get:119 https://developer.download.nvidia.com/compute/cuda/repos/ubuntu2204/x86_64  cuda-nvml-dev-12-2 12.2.140-1 [88.9 kB]\n",
            "Get:120 https://developer.download.nvidia.com/compute/cuda/repos/ubuntu2204/x86_64  cuda-nvvp-12-2 12.2.142-1 [115 MB]\n",
            "Get:121 https://developer.download.nvidia.com/compute/cuda/repos/ubuntu2204/x86_64  cuda-visual-tools-12-2 12.2.2-1 [2,938 B]\n",
            "Get:122 https://developer.download.nvidia.com/compute/cuda/repos/ubuntu2204/x86_64  gds-tools-12-2 1.7.2.10-1 [39.1 MB]\n",
            "Get:123 https://developer.download.nvidia.com/compute/cuda/repos/ubuntu2204/x86_64  cuda-tools-12-2 12.2.2-1 [2,458 B]\n",
            "Get:124 https://developer.download.nvidia.com/compute/cuda/repos/ubuntu2204/x86_64  cuda-documentation-12-2 12.2.140-1 [49.8 kB]\n",
            "Get:125 https://developer.download.nvidia.com/compute/cuda/repos/ubuntu2204/x86_64  cuda-toolkit-12-2 12.2.2-1 [3,276 B]\n",
            "Get:126 https://developer.download.nvidia.com/compute/cuda/repos/ubuntu2204/x86_64  cuda-demo-suite-12-2 12.2.140-1 [3,984 kB]\n",
            "Get:127 https://developer.download.nvidia.com/compute/cuda/repos/ubuntu2204/x86_64  cuda-12-2 12.2.2-1 [2,518 B]\n",
            "Get:128 https://developer.download.nvidia.com/compute/cuda/repos/ubuntu2204/x86_64  cuda 12.2.2-1 [2,466 B]\n",
            "Fetched 3,185 MB in 40s (79.0 MB/s)\n",
            "debconf: unable to initialize frontend: Dialog\n",
            "debconf: (No usable dialog-like program is installed, so the dialog based frontend cannot be used. at /usr/share/perl5/Debconf/FrontEnd/Dialog.pm line 78, <> line 128.)\n",
            "debconf: falling back to frontend: Readline\n",
            "debconf: unable to initialize frontend: Readline\n",
            "debconf: (This frontend requires a controlling tty.)\n",
            "debconf: falling back to frontend: Teletype\n",
            "dpkg-preconfigure: unable to re-open stdin: \n",
            "Selecting previously unselected package cpp-12.\n",
            "(Reading database ... 120910 files and directories currently installed.)\n",
            "Preparing to unpack .../0-cpp-12_12.3.0-1ubuntu1~22.04_amd64.deb ...\n",
            "Unpacking cpp-12 (12.3.0-1ubuntu1~22.04) ...\n",
            "Selecting previously unselected package libasan8:amd64.\n",
            "Preparing to unpack .../1-libasan8_12.3.0-1ubuntu1~22.04_amd64.deb ...\n",
            "Unpacking libasan8:amd64 (12.3.0-1ubuntu1~22.04) ...\n",
            "Selecting previously unselected package libtsan2:amd64.\n",
            "Preparing to unpack .../2-libtsan2_12.3.0-1ubuntu1~22.04_amd64.deb ...\n",
            "Unpacking libtsan2:amd64 (12.3.0-1ubuntu1~22.04) ...\n",
            "Selecting previously unselected package libgcc-12-dev:amd64.\n",
            "Preparing to unpack .../3-libgcc-12-dev_12.3.0-1ubuntu1~22.04_amd64.deb ...\n",
            "Unpacking libgcc-12-dev:amd64 (12.3.0-1ubuntu1~22.04) ...\n",
            "Selecting previously unselected package gcc-12.\n",
            "Preparing to unpack .../4-gcc-12_12.3.0-1ubuntu1~22.04_amd64.deb ...\n",
            "Unpacking gcc-12 (12.3.0-1ubuntu1~22.04) ...\n",
            "Selecting previously unselected package dctrl-tools.\n",
            "Preparing to unpack .../5-dctrl-tools_2.24-3build2_amd64.deb ...\n",
            "Unpacking dctrl-tools (2.24-3build2) ...\n",
            "Selecting previously unselected package dkms.\n",
            "Preparing to unpack .../6-dkms_2.8.7-2ubuntu2.2_all.deb ...\n",
            "Unpacking dkms (2.8.7-2ubuntu2.2) ...\n",
            "Preparing to unpack .../7-libudev1_249.11-0ubuntu3.10_amd64.deb ...\n",
            "Unpacking libudev1:amd64 (249.11-0ubuntu3.10) over (249.11-0ubuntu3.9) ...\n",
            "Setting up libudev1:amd64 (249.11-0ubuntu3.10) ...\n",
            "Selecting previously unselected package udev.\n",
            "(Reading database ... 121236 files and directories currently installed.)\n",
            "Preparing to unpack .../000-udev_249.11-0ubuntu3.10_amd64.deb ...\n",
            "Unpacking udev (249.11-0ubuntu3.10) ...\n",
            "Selecting previously unselected package libjansson4:amd64.\n",
            "Preparing to unpack .../001-libjansson4_2.13.1-1.1build3_amd64.deb ...\n",
            "Unpacking libjansson4:amd64 (2.13.1-1.1build3) ...\n",
            "Selecting previously unselected package cuda-toolkit-12-config-common.\n",
            "Preparing to unpack .../002-cuda-toolkit-12-config-common_12.2.140-1_all.deb ...\n",
            "Unpacking cuda-toolkit-12-config-common (12.2.140-1) ...\n",
            "Selecting previously unselected package cuda-toolkit-12-2-config-common.\n",
            "Preparing to unpack .../003-cuda-toolkit-12-2-config-common_12.2.140-1_all.deb ...\n",
            "Unpacking cuda-toolkit-12-2-config-common (12.2.140-1) ...\n",
            "Selecting previously unselected package cuda-cudart-12-2.\n",
            "Preparing to unpack .../004-cuda-cudart-12-2_12.2.140-1_amd64.deb ...\n",
            "Unpacking cuda-cudart-12-2 (12.2.140-1) ...\n",
            "Selecting previously unselected package cuda-nvrtc-12-2.\n",
            "Preparing to unpack .../005-cuda-nvrtc-12-2_12.2.140-1_amd64.deb ...\n",
            "Unpacking cuda-nvrtc-12-2 (12.2.140-1) ...\n",
            "Selecting previously unselected package cuda-opencl-12-2.\n",
            "Preparing to unpack .../006-cuda-opencl-12-2_12.2.140-1_amd64.deb ...\n",
            "Unpacking cuda-opencl-12-2 (12.2.140-1) ...\n",
            "Selecting previously unselected package libcublas-12-2.\n",
            "Preparing to unpack .../007-libcublas-12-2_12.2.5.6-1_amd64.deb ...\n",
            "Unpacking libcublas-12-2 (12.2.5.6-1) ...\n",
            "Selecting previously unselected package libcufft-12-2.\n",
            "Preparing to unpack .../008-libcufft-12-2_11.0.8.103-1_amd64.deb ...\n",
            "Unpacking libcufft-12-2 (11.0.8.103-1) ...\n",
            "Selecting previously unselected package libcufile-12-2.\n",
            "Preparing to unpack .../009-libcufile-12-2_1.7.2.10-1_amd64.deb ...\n",
            "Unpacking libcufile-12-2 (1.7.2.10-1) ...\n",
            "Selecting previously unselected package libcurand-12-2.\n",
            "Preparing to unpack .../010-libcurand-12-2_10.3.3.141-1_amd64.deb ...\n",
            "Unpacking libcurand-12-2 (10.3.3.141-1) ...\n",
            "Selecting previously unselected package libcusolver-12-2.\n",
            "Preparing to unpack .../011-libcusolver-12-2_11.5.2.141-1_amd64.deb ...\n",
            "Unpacking libcusolver-12-2 (11.5.2.141-1) ...\n",
            "Selecting previously unselected package libcusparse-12-2.\n",
            "Preparing to unpack .../012-libcusparse-12-2_12.1.2.141-1_amd64.deb ...\n",
            "Unpacking libcusparse-12-2 (12.1.2.141-1) ...\n",
            "Selecting previously unselected package libnpp-12-2.\n",
            "Preparing to unpack .../013-libnpp-12-2_12.2.1.4-1_amd64.deb ...\n",
            "Unpacking libnpp-12-2 (12.2.1.4-1) ...\n",
            "Selecting previously unselected package libnvjitlink-12-2.\n",
            "Preparing to unpack .../014-libnvjitlink-12-2_12.2.140-1_amd64.deb ...\n",
            "Unpacking libnvjitlink-12-2 (12.2.140-1) ...\n",
            "Selecting previously unselected package libnvjpeg-12-2.\n",
            "Preparing to unpack .../015-libnvjpeg-12-2_12.2.2.4-1_amd64.deb ...\n",
            "Unpacking libnvjpeg-12-2 (12.2.2.4-1) ...\n",
            "Selecting previously unselected package cuda-libraries-12-2.\n",
            "Preparing to unpack .../016-cuda-libraries-12-2_12.2.2-1_amd64.deb ...\n",
            "Unpacking cuda-libraries-12-2 (12.2.2-1) ...\n",
            "Selecting previously unselected package libnvidia-common-535.\n",
            "Preparing to unpack .../017-libnvidia-common-535_535.104.12-0ubuntu1_all.deb ...\n",
            "Unpacking libnvidia-common-535 (535.104.12-0ubuntu1) ...\n",
            "Selecting previously unselected package libnvidia-compute-535:amd64.\n",
            "Preparing to unpack .../018-libnvidia-compute-535_535.104.12-0ubuntu1_amd64.deb ...\n",
            "Unpacking libnvidia-compute-535:amd64 (535.104.12-0ubuntu1) ...\n",
            "Selecting previously unselected package libnvidia-decode-535:amd64.\n",
            "Preparing to unpack .../019-libnvidia-decode-535_535.104.12-0ubuntu1_amd64.deb ...\n",
            "Unpacking libnvidia-decode-535:amd64 (535.104.12-0ubuntu1) ...\n",
            "Selecting previously unselected package libnvidia-encode-535:amd64.\n",
            "Preparing to unpack .../020-libnvidia-encode-535_535.104.12-0ubuntu1_amd64.deb ...\n",
            "Unpacking libnvidia-encode-535:amd64 (535.104.12-0ubuntu1) ...\n",
            "Selecting previously unselected package libnvidia-fbc1-535:amd64.\n",
            "Preparing to unpack .../021-libnvidia-fbc1-535_535.104.12-0ubuntu1_amd64.deb ...\n",
            "Unpacking libnvidia-fbc1-535:amd64 (535.104.12-0ubuntu1) ...\n",
            "Selecting previously unselected package libnvidia-gl-535:amd64.\n",
            "Preparing to unpack .../022-libnvidia-gl-535_535.104.12-0ubuntu1_amd64.deb ...\n",
            "dpkg-query: no packages found matching libnvidia-gl-450\n",
            "Unpacking libnvidia-gl-535:amd64 (535.104.12-0ubuntu1) ...\n",
            "Selecting previously unselected package nvidia-compute-utils-535.\n",
            "Preparing to unpack .../023-nvidia-compute-utils-535_535.104.12-0ubuntu1_amd64.deb ...\n",
            "Unpacking nvidia-compute-utils-535 (535.104.12-0ubuntu1) ...\n",
            "Selecting previously unselected package nvidia-kernel-source-535.\n",
            "Preparing to unpack .../024-nvidia-kernel-source-535_535.104.12-0ubuntu1_amd64.deb ...\n",
            "Unpacking nvidia-kernel-source-535 (535.104.12-0ubuntu1) ...\n",
            "Selecting previously unselected package nvidia-kernel-common-535.\n",
            "Preparing to unpack .../025-nvidia-kernel-common-535_535.104.12-0ubuntu1_amd64.deb ...\n",
            "Unpacking nvidia-kernel-common-535 (535.104.12-0ubuntu1) ...\n",
            "Selecting previously unselected package nvidia-dkms-535.\n",
            "Preparing to unpack .../026-nvidia-dkms-535_535.104.12-0ubuntu1_amd64.deb ...\n",
            "Unpacking nvidia-dkms-535 (535.104.12-0ubuntu1) ...\n",
            "Selecting previously unselected package libnvidia-extra-535:amd64.\n",
            "Preparing to unpack .../027-libnvidia-extra-535_535.104.12-0ubuntu1_amd64.deb ...\n",
            "Unpacking libnvidia-extra-535:amd64 (535.104.12-0ubuntu1) ...\n",
            "Selecting previously unselected package nvidia-utils-535.\n",
            "Preparing to unpack .../028-nvidia-utils-535_535.104.12-0ubuntu1_amd64.deb ...\n",
            "Unpacking nvidia-utils-535 (535.104.12-0ubuntu1) ...\n",
            "Selecting previously unselected package libnvidia-cfg1-535:amd64.\n",
            "Preparing to unpack .../029-libnvidia-cfg1-535_535.104.12-0ubuntu1_amd64.deb ...\n",
            "Unpacking libnvidia-cfg1-535:amd64 (535.104.12-0ubuntu1) ...\n",
            "Selecting previously unselected package libxkbfile1:amd64.\n",
            "Preparing to unpack .../030-libxkbfile1_1%3a1.1.0-1build3_amd64.deb ...\n",
            "Unpacking libxkbfile1:amd64 (1:1.1.0-1build3) ...\n",
            "Selecting previously unselected package x11-xkb-utils.\n",
            "Preparing to unpack .../031-x11-xkb-utils_7.7+5build4_amd64.deb ...\n",
            "Unpacking x11-xkb-utils (7.7+5build4) ...\n",
            "Selecting previously unselected package xserver-common.\n",
            "Preparing to unpack .../032-xserver-common_2%3a21.1.4-2ubuntu1.7~22.04.1_all.deb ...\n",
            "Unpacking xserver-common (2:21.1.4-2ubuntu1.7~22.04.1) ...\n",
            "Selecting previously unselected package libxcvt0:amd64.\n",
            "Preparing to unpack .../033-libxcvt0_0.1.1-3_amd64.deb ...\n",
            "Unpacking libxcvt0:amd64 (0.1.1-3) ...\n",
            "Selecting previously unselected package libfontenc1:amd64.\n",
            "Preparing to unpack .../034-libfontenc1_1%3a1.1.4-1build3_amd64.deb ...\n",
            "Unpacking libfontenc1:amd64 (1:1.1.4-1build3) ...\n",
            "Selecting previously unselected package libxfont2:amd64.\n",
            "Preparing to unpack .../035-libxfont2_1%3a2.0.5-1build1_amd64.deb ...\n",
            "Unpacking libxfont2:amd64 (1:2.0.5-1build1) ...\n",
            "Selecting previously unselected package xserver-xorg-core.\n",
            "Preparing to unpack .../036-xserver-xorg-core_2%3a21.1.4-2ubuntu1.7~22.04.1_amd64.deb ...\n",
            "Unpacking xserver-xorg-core (2:21.1.4-2ubuntu1.7~22.04.1) ...\n",
            "Selecting previously unselected package xserver-xorg-video-nvidia-535.\n",
            "Preparing to unpack .../037-xserver-xorg-video-nvidia-535_535.104.12-0ubuntu1_amd64.deb ...\n",
            "Unpacking xserver-xorg-video-nvidia-535 (535.104.12-0ubuntu1) ...\n",
            "Selecting previously unselected package nvidia-driver-535.\n",
            "Preparing to unpack .../038-nvidia-driver-535_535.104.12-0ubuntu1_amd64.deb ...\n",
            "Unpacking nvidia-driver-535 (535.104.12-0ubuntu1) ...\n",
            "Selecting previously unselected package nvidia-modprobe.\n",
            "Preparing to unpack .../039-nvidia-modprobe_535.104.12-0ubuntu1_amd64.deb ...\n",
            "Unpacking nvidia-modprobe (535.104.12-0ubuntu1) ...\n",
            "Selecting previously unselected package python3-xkit.\n",
            "Preparing to unpack .../040-python3-xkit_0.5.0ubuntu5_all.deb ...\n",
            "Unpacking python3-xkit (0.5.0ubuntu5) ...\n",
            "Selecting previously unselected package screen-resolution-extra.\n",
            "Preparing to unpack .../041-screen-resolution-extra_0.18.2_all.deb ...\n",
            "Unpacking screen-resolution-extra (0.18.2) ...\n",
            "Selecting previously unselected package nvidia-settings.\n",
            "Preparing to unpack .../042-nvidia-settings_535.104.12-0ubuntu1_amd64.deb ...\n",
            "Unpacking nvidia-settings (535.104.12-0ubuntu1) ...\n",
            "Selecting previously unselected package cuda-drivers-535.\n",
            "Preparing to unpack .../043-cuda-drivers-535_535.104.12-1_amd64.deb ...\n",
            "Unpacking cuda-drivers-535 (535.104.12-1) ...\n",
            "Selecting previously unselected package cuda-drivers.\n",
            "Preparing to unpack .../044-cuda-drivers_535.104.12-1_amd64.deb ...\n",
            "Unpacking cuda-drivers (535.104.12-1) ...\n",
            "Selecting previously unselected package cuda-runtime-12-2.\n",
            "Preparing to unpack .../045-cuda-runtime-12-2_12.2.2-1_amd64.deb ...\n",
            "Unpacking cuda-runtime-12-2 (12.2.2-1) ...\n",
            "Selecting previously unselected package cuda-cuobjdump-12-2.\n",
            "Preparing to unpack .../046-cuda-cuobjdump-12-2_12.2.140-1_amd64.deb ...\n",
            "Unpacking cuda-cuobjdump-12-2 (12.2.140-1) ...\n",
            "Selecting previously unselected package cuda-cuxxfilt-12-2.\n",
            "Preparing to unpack .../047-cuda-cuxxfilt-12-2_12.2.140-1_amd64.deb ...\n",
            "Unpacking cuda-cuxxfilt-12-2 (12.2.140-1) ...\n",
            "Selecting previously unselected package cuda-cccl-12-2.\n",
            "Preparing to unpack .../048-cuda-cccl-12-2_12.2.140-1_amd64.deb ...\n",
            "Unpacking cuda-cccl-12-2 (12.2.140-1) ...\n",
            "Selecting previously unselected package cuda-driver-dev-12-2.\n",
            "Preparing to unpack .../049-cuda-driver-dev-12-2_12.2.140-1_amd64.deb ...\n",
            "Unpacking cuda-driver-dev-12-2 (12.2.140-1) ...\n",
            "Selecting previously unselected package cuda-cudart-dev-12-2.\n",
            "Preparing to unpack .../050-cuda-cudart-dev-12-2_12.2.140-1_amd64.deb ...\n",
            "Unpacking cuda-cudart-dev-12-2 (12.2.140-1) ...\n",
            "Selecting previously unselected package cuda-nvvm-12-2.\n",
            "Preparing to unpack .../051-cuda-nvvm-12-2_12.2.140-1_amd64.deb ...\n",
            "Unpacking cuda-nvvm-12-2 (12.2.140-1) ...\n",
            "Selecting previously unselected package cuda-crt-12-2.\n",
            "Preparing to unpack .../052-cuda-crt-12-2_12.2.140-1_amd64.deb ...\n",
            "Unpacking cuda-crt-12-2 (12.2.140-1) ...\n",
            "Selecting previously unselected package cuda-nvcc-12-2.\n",
            "Preparing to unpack .../053-cuda-nvcc-12-2_12.2.140-1_amd64.deb ...\n",
            "Unpacking cuda-nvcc-12-2 (12.2.140-1) ...\n",
            "Selecting previously unselected package cuda-nvprune-12-2.\n",
            "Preparing to unpack .../054-cuda-nvprune-12-2_12.2.140-1_amd64.deb ...\n",
            "Unpacking cuda-nvprune-12-2 (12.2.140-1) ...\n",
            "Selecting previously unselected package cuda-compiler-12-2.\n",
            "Preparing to unpack .../055-cuda-compiler-12-2_12.2.2-1_amd64.deb ...\n",
            "Unpacking cuda-compiler-12-2 (12.2.2-1) ...\n",
            "Selecting previously unselected package cuda-profiler-api-12-2.\n",
            "Preparing to unpack .../056-cuda-profiler-api-12-2_12.2.140-1_amd64.deb ...\n",
            "Unpacking cuda-profiler-api-12-2 (12.2.140-1) ...\n",
            "Selecting previously unselected package cuda-nvrtc-dev-12-2.\n",
            "Preparing to unpack .../057-cuda-nvrtc-dev-12-2_12.2.140-1_amd64.deb ...\n",
            "Unpacking cuda-nvrtc-dev-12-2 (12.2.140-1) ...\n",
            "Selecting previously unselected package cuda-opencl-dev-12-2.\n",
            "Preparing to unpack .../058-cuda-opencl-dev-12-2_12.2.140-1_amd64.deb ...\n",
            "Unpacking cuda-opencl-dev-12-2 (12.2.140-1) ...\n",
            "Selecting previously unselected package libcublas-dev-12-2.\n",
            "Preparing to unpack .../059-libcublas-dev-12-2_12.2.5.6-1_amd64.deb ...\n",
            "Unpacking libcublas-dev-12-2 (12.2.5.6-1) ...\n",
            "Selecting previously unselected package libcufft-dev-12-2.\n",
            "Preparing to unpack .../060-libcufft-dev-12-2_11.0.8.103-1_amd64.deb ...\n",
            "Unpacking libcufft-dev-12-2 (11.0.8.103-1) ...\n",
            "Selecting previously unselected package libcufile-dev-12-2.\n",
            "Preparing to unpack .../061-libcufile-dev-12-2_1.7.2.10-1_amd64.deb ...\n",
            "Unpacking libcufile-dev-12-2 (1.7.2.10-1) ...\n",
            "Selecting previously unselected package libcurand-dev-12-2.\n",
            "Preparing to unpack .../062-libcurand-dev-12-2_10.3.3.141-1_amd64.deb ...\n",
            "Unpacking libcurand-dev-12-2 (10.3.3.141-1) ...\n",
            "Selecting previously unselected package libcusolver-dev-12-2.\n",
            "Preparing to unpack .../063-libcusolver-dev-12-2_11.5.2.141-1_amd64.deb ...\n",
            "Unpacking libcusolver-dev-12-2 (11.5.2.141-1) ...\n",
            "Selecting previously unselected package libcusparse-dev-12-2.\n",
            "Preparing to unpack .../064-libcusparse-dev-12-2_12.1.2.141-1_amd64.deb ...\n",
            "Unpacking libcusparse-dev-12-2 (12.1.2.141-1) ...\n",
            "Selecting previously unselected package libnpp-dev-12-2.\n",
            "Preparing to unpack .../065-libnpp-dev-12-2_12.2.1.4-1_amd64.deb ...\n",
            "Unpacking libnpp-dev-12-2 (12.2.1.4-1) ...\n",
            "Selecting previously unselected package libnvjitlink-dev-12-2.\n",
            "Preparing to unpack .../066-libnvjitlink-dev-12-2_12.2.140-1_amd64.deb ...\n",
            "Unpacking libnvjitlink-dev-12-2 (12.2.140-1) ...\n",
            "Selecting previously unselected package libnvjpeg-dev-12-2.\n",
            "Preparing to unpack .../067-libnvjpeg-dev-12-2_12.2.2.4-1_amd64.deb ...\n",
            "Unpacking libnvjpeg-dev-12-2 (12.2.2.4-1) ...\n",
            "Selecting previously unselected package cuda-libraries-dev-12-2.\n",
            "Preparing to unpack .../068-cuda-libraries-dev-12-2_12.2.2-1_amd64.deb ...\n",
            "Unpacking cuda-libraries-dev-12-2 (12.2.2-1) ...\n",
            "Selecting previously unselected package cuda-cupti-12-2.\n",
            "Preparing to unpack .../069-cuda-cupti-12-2_12.2.142-1_amd64.deb ...\n",
            "Unpacking cuda-cupti-12-2 (12.2.142-1) ...\n",
            "Selecting previously unselected package cuda-cupti-dev-12-2.\n",
            "Preparing to unpack .../070-cuda-cupti-dev-12-2_12.2.142-1_amd64.deb ...\n",
            "Unpacking cuda-cupti-dev-12-2 (12.2.142-1) ...\n",
            "Selecting previously unselected package cuda-nvdisasm-12-2.\n",
            "Preparing to unpack .../071-cuda-nvdisasm-12-2_12.2.140-1_amd64.deb ...\n",
            "Unpacking cuda-nvdisasm-12-2 (12.2.140-1) ...\n",
            "Selecting previously unselected package cuda-gdb-12-2.\n",
            "Preparing to unpack .../072-cuda-gdb-12-2_12.2.140-1_amd64.deb ...\n",
            "Unpacking cuda-gdb-12-2 (12.2.140-1) ...\n",
            "Selecting previously unselected package cuda-nvprof-12-2.\n",
            "Preparing to unpack .../073-cuda-nvprof-12-2_12.2.142-1_amd64.deb ...\n",
            "Unpacking cuda-nvprof-12-2 (12.2.142-1) ...\n",
            "Selecting previously unselected package cuda-nvtx-12-2.\n",
            "Preparing to unpack .../074-cuda-nvtx-12-2_12.2.140-1_amd64.deb ...\n",
            "Unpacking cuda-nvtx-12-2 (12.2.140-1) ...\n",
            "Selecting previously unselected package cuda-sanitizer-12-2.\n",
            "Preparing to unpack .../075-cuda-sanitizer-12-2_12.2.140-1_amd64.deb ...\n",
            "Unpacking cuda-sanitizer-12-2 (12.2.140-1) ...\n",
            "Selecting previously unselected package cuda-command-line-tools-12-2.\n",
            "Preparing to unpack .../076-cuda-command-line-tools-12-2_12.2.2-1_amd64.deb ...\n",
            "Unpacking cuda-command-line-tools-12-2 (12.2.2-1) ...\n",
            "Selecting previously unselected package nsight-compute-2023.2.2.\n",
            "Preparing to unpack .../077-nsight-compute-2023.2.2_2023.2.2.3-1_amd64.deb ...\n",
            "Unpacking nsight-compute-2023.2.2 (2023.2.2.3-1) ...\n",
            "Selecting previously unselected package cuda-nsight-compute-12-2.\n",
            "Preparing to unpack .../078-cuda-nsight-compute-12-2_12.2.2-1_amd64.deb ...\n",
            "Unpacking cuda-nsight-compute-12-2 (12.2.2-1) ...\n",
            "Selecting previously unselected package libtinfo5:amd64.\n",
            "Preparing to unpack .../079-libtinfo5_6.3-2ubuntu0.1_amd64.deb ...\n",
            "Unpacking libtinfo5:amd64 (6.3-2ubuntu0.1) ...\n",
            "Selecting previously unselected package libxcb-xinerama0:amd64.\n",
            "Preparing to unpack .../080-libxcb-xinerama0_1.14-3ubuntu3_amd64.deb ...\n",
            "Unpacking libxcb-xinerama0:amd64 (1.14-3ubuntu3) ...\n",
            "Selecting previously unselected package libxcb-icccm4:amd64.\n",
            "Preparing to unpack .../081-libxcb-icccm4_0.4.1-1.1build2_amd64.deb ...\n",
            "Unpacking libxcb-icccm4:amd64 (0.4.1-1.1build2) ...\n",
            "Selecting previously unselected package libxcb-util1:amd64.\n",
            "Preparing to unpack .../082-libxcb-util1_0.4.0-1build2_amd64.deb ...\n",
            "Unpacking libxcb-util1:amd64 (0.4.0-1build2) ...\n",
            "Selecting previously unselected package libxcb-image0:amd64.\n",
            "Preparing to unpack .../083-libxcb-image0_0.4.0-2_amd64.deb ...\n",
            "Unpacking libxcb-image0:amd64 (0.4.0-2) ...\n",
            "Selecting previously unselected package libxcb-keysyms1:amd64.\n",
            "Preparing to unpack .../084-libxcb-keysyms1_0.4.0-1build3_amd64.deb ...\n",
            "Unpacking libxcb-keysyms1:amd64 (0.4.0-1build3) ...\n",
            "Selecting previously unselected package libxcb-render-util0:amd64.\n",
            "Preparing to unpack .../085-libxcb-render-util0_0.3.9-1build3_amd64.deb ...\n",
            "Unpacking libxcb-render-util0:amd64 (0.3.9-1build3) ...\n",
            "Selecting previously unselected package libxcb-xkb1:amd64.\n",
            "Preparing to unpack .../086-libxcb-xkb1_1.14-3ubuntu3_amd64.deb ...\n",
            "Unpacking libxcb-xkb1:amd64 (1.14-3ubuntu3) ...\n",
            "Selecting previously unselected package libxkbcommon-x11-0:amd64.\n",
            "Preparing to unpack .../087-libxkbcommon-x11-0_1.4.0-1_amd64.deb ...\n",
            "Unpacking libxkbcommon-x11-0:amd64 (1.4.0-1) ...\n",
            "Selecting previously unselected package libxcb-xinput0:amd64.\n",
            "Preparing to unpack .../088-libxcb-xinput0_1.14-3ubuntu3_amd64.deb ...\n",
            "Unpacking libxcb-xinput0:amd64 (1.14-3ubuntu3) ...\n",
            "Selecting previously unselected package libxtst6:amd64.\n",
            "Preparing to unpack .../089-libxtst6_2%3a1.2.3-1build4_amd64.deb ...\n",
            "Unpacking libxtst6:amd64 (2:1.2.3-1build4) ...\n",
            "Selecting previously unselected package nsight-systems-2023.2.3.\n",
            "Preparing to unpack .../090-nsight-systems-2023.2.3_2023.2.3.1004-33186433v0_amd64.deb ...\n",
            "Unpacking nsight-systems-2023.2.3 (2023.2.3.1004-33186433v0) ...\n",
            "Selecting previously unselected package cuda-nsight-systems-12-2.\n",
            "Preparing to unpack .../091-cuda-nsight-systems-12-2_12.2.2-1_amd64.deb ...\n",
            "Unpacking cuda-nsight-systems-12-2 (12.2.2-1) ...\n",
            "Selecting previously unselected package default-jre-headless.\n",
            "Preparing to unpack .../092-default-jre-headless_2%3a1.11-72build2_amd64.deb ...\n",
            "Unpacking default-jre-headless (2:1.11-72build2) ...\n",
            "Selecting previously unselected package openjdk-11-jre:amd64.\n",
            "Preparing to unpack .../093-openjdk-11-jre_11.0.20.1+1-0ubuntu1~22.04_amd64.deb ...\n",
            "Unpacking openjdk-11-jre:amd64 (11.0.20.1+1-0ubuntu1~22.04) ...\n",
            "Selecting previously unselected package default-jre.\n",
            "Preparing to unpack .../094-default-jre_2%3a1.11-72build2_amd64.deb ...\n",
            "Unpacking default-jre (2:1.11-72build2) ...\n",
            "Selecting previously unselected package cuda-nsight-12-2.\n",
            "Preparing to unpack .../095-cuda-nsight-12-2_12.2.144-1_amd64.deb ...\n",
            "Unpacking cuda-nsight-12-2 (12.2.144-1) ...\n",
            "Selecting previously unselected package cuda-nvml-dev-12-2.\n",
            "Preparing to unpack .../096-cuda-nvml-dev-12-2_12.2.140-1_amd64.deb ...\n",
            "Unpacking cuda-nvml-dev-12-2 (12.2.140-1) ...\n",
            "Selecting previously unselected package cuda-nvvp-12-2.\n",
            "Preparing to unpack .../097-cuda-nvvp-12-2_12.2.142-1_amd64.deb ...\n",
            "Unpacking cuda-nvvp-12-2 (12.2.142-1) ...\n",
            "Selecting previously unselected package cuda-visual-tools-12-2.\n",
            "Preparing to unpack .../098-cuda-visual-tools-12-2_12.2.2-1_amd64.deb ...\n",
            "Unpacking cuda-visual-tools-12-2 (12.2.2-1) ...\n",
            "Selecting previously unselected package gds-tools-12-2.\n",
            "Preparing to unpack .../099-gds-tools-12-2_1.7.2.10-1_amd64.deb ...\n",
            "Unpacking gds-tools-12-2 (1.7.2.10-1) ...\n",
            "Selecting previously unselected package cuda-tools-12-2.\n",
            "Preparing to unpack .../100-cuda-tools-12-2_12.2.2-1_amd64.deb ...\n",
            "Unpacking cuda-tools-12-2 (12.2.2-1) ...\n",
            "Selecting previously unselected package cuda-documentation-12-2.\n",
            "Preparing to unpack .../101-cuda-documentation-12-2_12.2.140-1_amd64.deb ...\n",
            "Unpacking cuda-documentation-12-2 (12.2.140-1) ...\n",
            "Selecting previously unselected package cuda-toolkit-12-2.\n",
            "Preparing to unpack .../102-cuda-toolkit-12-2_12.2.2-1_amd64.deb ...\n",
            "Unpacking cuda-toolkit-12-2 (12.2.2-1) ...\n",
            "Selecting previously unselected package cuda-demo-suite-12-2.\n",
            "Preparing to unpack .../103-cuda-demo-suite-12-2_12.2.140-1_amd64.deb ...\n",
            "Unpacking cuda-demo-suite-12-2 (12.2.140-1) ...\n",
            "Selecting previously unselected package cuda-12-2.\n",
            "Preparing to unpack .../104-cuda-12-2_12.2.2-1_amd64.deb ...\n",
            "Unpacking cuda-12-2 (12.2.2-1) ...\n",
            "Selecting previously unselected package cuda.\n",
            "Preparing to unpack .../105-cuda_12.2.2-1_amd64.deb ...\n",
            "Unpacking cuda (12.2.2-1) ...\n",
            "Selecting previously unselected package libfakeroot:amd64.\n",
            "Preparing to unpack .../106-libfakeroot_1.28-1ubuntu1_amd64.deb ...\n",
            "Unpacking libfakeroot:amd64 (1.28-1ubuntu1) ...\n",
            "Selecting previously unselected package fakeroot.\n",
            "Preparing to unpack .../107-fakeroot_1.28-1ubuntu1_amd64.deb ...\n",
            "Unpacking fakeroot (1.28-1ubuntu1) ...\n",
            "Selecting previously unselected package fonts-dejavu-core.\n",
            "Preparing to unpack .../108-fonts-dejavu-core_2.37-2build1_all.deb ...\n",
            "Unpacking fonts-dejavu-core (2.37-2build1) ...\n",
            "Selecting previously unselected package fonts-dejavu-extra.\n",
            "Preparing to unpack .../109-fonts-dejavu-extra_2.37-2build1_all.deb ...\n",
            "Unpacking fonts-dejavu-extra (2.37-2build1) ...\n",
            "Selecting previously unselected package libxxf86dga1:amd64.\n",
            "Preparing to unpack .../110-libxxf86dga1_2%3a1.1.5-0ubuntu3_amd64.deb ...\n",
            "Unpacking libxxf86dga1:amd64 (2:1.1.5-0ubuntu3) ...\n",
            "Selecting previously unselected package x11-utils.\n",
            "Preparing to unpack .../111-x11-utils_7.7+5build2_amd64.deb ...\n",
            "Unpacking x11-utils (7.7+5build2) ...\n",
            "Selecting previously unselected package libatk-wrapper-java.\n",
            "Preparing to unpack .../112-libatk-wrapper-java_0.38.0-5build1_all.deb ...\n",
            "Unpacking libatk-wrapper-java (0.38.0-5build1) ...\n",
            "Selecting previously unselected package libatk-wrapper-java-jni:amd64.\n",
            "Preparing to unpack .../113-libatk-wrapper-java-jni_0.38.0-5build1_amd64.deb ...\n",
            "Unpacking libatk-wrapper-java-jni:amd64 (0.38.0-5build1) ...\n",
            "Selecting previously unselected package nvidia-prime.\n",
            "Preparing to unpack .../114-nvidia-prime_0.8.17.1_all.deb ...\n",
            "Unpacking nvidia-prime (0.8.17.1) ...\n",
            "Selecting previously unselected package systemd-hwe-hwdb.\n",
            "Preparing to unpack .../115-systemd-hwe-hwdb_249.11.3_all.deb ...\n",
            "Unpacking systemd-hwe-hwdb (249.11.3) ...\n",
            "Selecting previously unselected package xcvt.\n",
            "Preparing to unpack .../116-xcvt_0.1.1-3_amd64.deb ...\n",
            "Unpacking xcvt (0.1.1-3) ...\n",
            "Selecting previously unselected package xfonts-encodings.\n",
            "Preparing to unpack .../117-xfonts-encodings_1%3a1.0.5-0ubuntu2_all.deb ...\n",
            "Unpacking xfonts-encodings (1:1.0.5-0ubuntu2) ...\n",
            "Selecting previously unselected package xfonts-utils.\n",
            "Preparing to unpack .../118-xfonts-utils_1%3a7.7+6build2_amd64.deb ...\n",
            "Unpacking xfonts-utils (1:7.7+6build2) ...\n",
            "Selecting previously unselected package xfonts-base.\n",
            "Preparing to unpack .../119-xfonts-base_1%3a1.0.5_all.deb ...\n",
            "Unpacking xfonts-base (1:1.0.5) ...\n",
            "Setting up cpp-12 (12.3.0-1ubuntu1~22.04) ...\n",
            "Setting up cuda-toolkit-12-2-config-common (12.2.140-1) ...\n",
            "Setting alternatives\n",
            "update-alternatives: using /usr/local/cuda-12.2 to provide /usr/local/cuda (cuda) in auto mode\n",
            "update-alternatives: using /usr/local/cuda-12.2 to provide /usr/local/cuda-12 (cuda-12) in auto mode\n",
            "Setting up default-jre-headless (2:1.11-72build2) ...\n",
            "Setting up libxcb-xinput0:amd64 (1.14-3ubuntu3) ...\n",
            "Setting up nsight-compute-2023.2.2 (2023.2.2.3-1) ...\n",
            "Setting up cuda-nvtx-12-2 (12.2.140-1) ...\n",
            "Setting up cuda-cuxxfilt-12-2 (12.2.140-1) ...\n",
            "Setting up nvidia-prime (0.8.17.1) ...\n",
            "Setting up libxtst6:amd64 (2:1.2.3-1build4) ...\n",
            "Setting up cuda-cccl-12-2 (12.2.140-1) ...\n",
            "Setting up cuda-nvdisasm-12-2 (12.2.140-1) ...\n",
            "Setting up libxcb-keysyms1:amd64 (0.4.0-1build3) ...\n",
            "Setting up libxxf86dga1:amd64 (2:1.1.5-0ubuntu3) ...\n",
            "Setting up libnvidia-fbc1-535:amd64 (535.104.12-0ubuntu1) ...\n",
            "Setting up libxcb-render-util0:amd64 (0.3.9-1build3) ...\n",
            "Setting up openjdk-11-jre:amd64 (11.0.20.1+1-0ubuntu1~22.04) ...\n",
            "Setting up gds-tools-12-2 (1.7.2.10-1) ...\n",
            "Setting up libxcb-icccm4:amd64 (0.4.1-1.1build2) ...\n",
            "Setting up default-jre (2:1.11-72build2) ...\n",
            "Setting up nvidia-kernel-common-535 (535.104.12-0ubuntu1) ...\n",
            "Setting up cuda-nsight-compute-12-2 (12.2.2-1) ...\n",
            "Setting up libfakeroot:amd64 (1.28-1ubuntu1) ...\n",
            "Setting up libxcb-util1:amd64 (0.4.0-1build2) ...\n",
            "Setting up libjansson4:amd64 (2.13.1-1.1build3) ...\n",
            "Setting up libxcb-xkb1:amd64 (1.14-3ubuntu3) ...\n",
            "Setting up nvidia-modprobe (535.104.12-0ubuntu1) ...\n",
            "Setting up libxcb-image0:amd64 (0.4.0-2) ...\n",
            "Setting up fakeroot (1.28-1ubuntu1) ...\n",
            "update-alternatives: using /usr/bin/fakeroot-sysv to provide /usr/bin/fakeroot (fakeroot) in auto mode\n",
            "Setting up libfontenc1:amd64 (1:1.1.4-1build3) ...\n",
            "Setting up libxcb-xinerama0:amd64 (1.14-3ubuntu3) ...\n",
            "Setting up cuda-cuobjdump-12-2 (12.2.140-1) ...\n",
            "Setting up cuda-nvrtc-12-2 (12.2.140-1) ...\n",
            "Setting up cuda-sanitizer-12-2 (12.2.140-1) ...\n",
            "Setting up libnvidia-common-535 (535.104.12-0ubuntu1) ...\n",
            "Setting up cuda-nsight-12-2 (12.2.144-1) ...\n",
            "Setting up xfonts-encodings (1:1.0.5-0ubuntu2) ...\n",
            "Setting up cuda-nvvm-12-2 (12.2.140-1) ...\n",
            "Setting up libxkbcommon-x11-0:amd64 (1.4.0-1) ...\n",
            "Setting up cuda-cupti-12-2 (12.2.142-1) ...\n",
            "Setting up udev (249.11-0ubuntu3.10) ...\n",
            "invoke-rc.d: could not determine current runlevel\n",
            "invoke-rc.d: policy-rc.d denied execution of start.\n",
            "Setting up cuda-nvprof-12-2 (12.2.142-1) ...\n",
            "Setting up libnvidia-extra-535:amd64 (535.104.12-0ubuntu1) ...\n",
            "Setting up fonts-dejavu-core (2.37-2build1) ...\n",
            "Setting up libnvidia-cfg1-535:amd64 (535.104.12-0ubuntu1) ...\n",
            "Setting up systemd-hwe-hwdb (249.11.3) ...\n",
            "Setting up fonts-dejavu-extra (2.37-2build1) ...\n",
            "Setting up libasan8:amd64 (12.3.0-1ubuntu1~22.04) ...\n",
            "Setting up nvidia-kernel-source-535 (535.104.12-0ubuntu1) ...\n",
            "Setting up libnvidia-gl-535:amd64 (535.104.12-0ubuntu1) ...\n",
            "Setting up libxcvt0:amd64 (0.1.1-3) ...\n",
            "Setting up cuda-gdb-12-2 (12.2.140-1) ...\n",
            "Setting up libnvidia-compute-535:amd64 (535.104.12-0ubuntu1) ...\n",
            "Setting up libxkbfile1:amd64 (1:1.1.0-1build3) ...\n",
            "Setting up cuda-nvprune-12-2 (12.2.140-1) ...\n",
            "Setting up cuda-documentation-12-2 (12.2.140-1) ...\n",
            "Setting up libtsan2:amd64 (12.3.0-1ubuntu1~22.04) ...\n",
            "Setting up cuda-driver-dev-12-2 (12.2.140-1) ...\n",
            "Setting up python3-xkit (0.5.0ubuntu5) ...\n",
            "Setting up libtinfo5:amd64 (6.3-2ubuntu0.1) ...\n",
            "Setting up libxfont2:amd64 (1:2.0.5-1build1) ...\n",
            "Setting up cuda-toolkit-12-config-common (12.2.140-1) ...\n",
            "Setting up cuda-nvml-dev-12-2 (12.2.140-1) ...\n",
            "Setting up dctrl-tools (2.24-3build2) ...\n",
            "Setting up nvidia-utils-535 (535.104.12-0ubuntu1) ...\n",
            "Setting up cuda-opencl-12-2 (12.2.140-1) ...\n",
            "Setting up cuda-profiler-api-12-2 (12.2.140-1) ...\n",
            "Setting up nvidia-compute-utils-535 (535.104.12-0ubuntu1) ...\n",
            "Warning: The home dir /nonexistent you specified can't be accessed: No such file or directory\n",
            "Adding system user `nvidia-persistenced' (UID 104) ...\n",
            "Adding new group `nvidia-persistenced' (GID 111) ...\n",
            "Adding new user `nvidia-persistenced' (UID 104) with group `nvidia-persistenced' ...\n",
            "Not creating home directory `/nonexistent'.\n",
            "Created symlink /etc/systemd/system/multi-user.target.wants/nvidia-persistenced.service → /lib/systemd/system/nvidia-persistenced.service.\n",
            "Setting up cuda-nvrtc-dev-12-2 (12.2.140-1) ...\n",
            "Setting up nsight-systems-2023.2.3 (2023.2.3.1004-33186433v0) ...\n",
            "update-alternatives: using /opt/nvidia/nsight-systems/2023.2.3/target-linux-x64/nsys to provide /usr/local/bin/nsys (nsys) in auto mode\n",
            "update-alternatives: using /opt/nvidia/nsight-systems/2023.2.3/host-linux-x64/nsys-ui to provide /usr/local/bin/nsys-ui (nsys-ui) in auto mode\n",
            "Setting up cuda-nvvp-12-2 (12.2.142-1) ...\n",
            "Setting up x11-xkb-utils (7.7+5build4) ...\n",
            "Setting up libcusolver-12-2 (11.5.2.141-1) ...\n",
            "Setting up cuda-cudart-12-2 (12.2.140-1) ...\n",
            "Setting up libnvjpeg-12-2 (12.2.2.4-1) ...\n",
            "Setting up libnvidia-decode-535:amd64 (535.104.12-0ubuntu1) ...\n",
            "Setting up xfonts-utils (1:7.7+6build2) ...\n",
            "Setting up libcufft-12-2 (11.0.8.103-1) ...\n",
            "Setting up libcufile-12-2 (1.7.2.10-1) ...\n",
            "Setting alternatives\n",
            "update-alternatives: using /usr/local/cuda-12.2/gds/cufile.json to provide /etc/cufile.json (cufile.json) in auto mode\n",
            "Setting up xcvt (0.1.1-3) ...\n",
            "Setting up libnvjpeg-dev-12-2 (12.2.2.4-1) ...\n",
            "Setting up libcusparse-12-2 (12.1.2.141-1) ...\n",
            "Setting up xfonts-base (1:1.0.5) ...\n",
            "Setting up libcufile-dev-12-2 (1.7.2.10-1) ...\n",
            "Setting up cuda-cupti-dev-12-2 (12.2.142-1) ...\n",
            "Setting up libgcc-12-dev:amd64 (12.3.0-1ubuntu1~22.04) ...\n",
            "Setting up cuda-cudart-dev-12-2 (12.2.140-1) ...\n",
            "Setting up cuda-command-line-tools-12-2 (12.2.2-1) ...\n",
            "Setting up cuda-opencl-dev-12-2 (12.2.140-1) ...\n",
            "Setting up libcublas-12-2 (12.2.5.6-1) ...\n",
            "Setting up screen-resolution-extra (0.18.2) ...\n",
            "Setting up x11-utils (7.7+5build2) ...\n",
            "Setting up libnvjitlink-12-2 (12.2.140-1) ...\n",
            "Setting up nvidia-settings (535.104.12-0ubuntu1) ...\n",
            "Setting up libcurand-12-2 (10.3.3.141-1) ...\n",
            "Setting up libatk-wrapper-java (0.38.0-5build1) ...\n",
            "Setting up xserver-common (2:21.1.4-2ubuntu1.7~22.04.1) ...\n",
            "Setting up libcufft-dev-12-2 (11.0.8.103-1) ...\n",
            "Setting up libnpp-12-2 (12.2.1.4-1) ...\n",
            "Setting up libnvjitlink-dev-12-2 (12.2.140-1) ...\n",
            "Setting up cuda-libraries-12-2 (12.2.2-1) ...\n",
            "Setting up cuda-nsight-systems-12-2 (12.2.2-1) ...\n",
            "Setting up libcurand-dev-12-2 (10.3.3.141-1) ...\n",
            "Setting up libcusolver-dev-12-2 (11.5.2.141-1) ...\n",
            "Setting up libcublas-dev-12-2 (12.2.5.6-1) ...\n",
            "Setting up xserver-xorg-core (2:21.1.4-2ubuntu1.7~22.04.1) ...\n",
            "Setting up libnvidia-encode-535:amd64 (535.104.12-0ubuntu1) ...\n",
            "Setting up cuda-crt-12-2 (12.2.140-1) ...\n",
            "Setting up libatk-wrapper-java-jni:amd64 (0.38.0-5build1) ...\n",
            "Setting up libcusparse-dev-12-2 (12.1.2.141-1) ...\n",
            "Setting up xserver-xorg-video-nvidia-535 (535.104.12-0ubuntu1) ...\n",
            "Setting up gcc-12 (12.3.0-1ubuntu1~22.04) ...\n",
            "Setting up cuda-nvcc-12-2 (12.2.140-1) ...\n",
            "Setting up libnpp-dev-12-2 (12.2.1.4-1) ...\n",
            "Setting up cuda-compiler-12-2 (12.2.2-1) ...\n",
            "Setting up cuda-libraries-dev-12-2 (12.2.2-1) ...\n",
            "Setting up cuda-visual-tools-12-2 (12.2.2-1) ...\n",
            "Setting up dkms (2.8.7-2ubuntu2.2) ...\n",
            "Setting up cuda-tools-12-2 (12.2.2-1) ...\n",
            "Setting up cuda-toolkit-12-2 (12.2.2-1) ...\n",
            "Setting up nvidia-dkms-535 (535.104.12-0ubuntu1) ...\n",
            "\n",
            "A modprobe blacklist file has been created at /etc/modprobe.d to prevent Nouveau\n",
            "from loading. This can be reverted by deleting the following file:\n",
            "/etc/modprobe.d/nvidia-graphics-drivers.conf\n",
            "\n",
            "A new initrd image has also been created. To revert, please regenerate your\n",
            "initrd by running the following command after deleting the modprobe.d file:\n",
            "`/usr/sbin/initramfs -u`\n",
            "\n",
            "*****************************************************************************\n",
            "*** Reboot your computer and verify that the NVIDIA graphics driver can   ***\n",
            "*** be loaded.                                                            ***\n",
            "*****************************************************************************\n",
            "\n",
            "debconf: unable to initialize frontend: Dialog\n",
            "debconf: (No usable dialog-like program is installed, so the dialog based frontend cannot be used. at /usr/share/perl5/Debconf/FrontEnd/Dialog.pm line 78.)\n",
            "debconf: falling back to frontend: Readline\n",
            "Loading new nvidia-535.104.12 DKMS files...\n",
            "It is likely that 5.15.120+ belongs to a chroot's host\n",
            "Building for 5.15.0-86-generic\n",
            "Building for architecture x86_64\n",
            "Building initial module for 5.15.0-86-generic\n",
            "Done.\n",
            "\n",
            "nvidia.ko:\n",
            "Running module version sanity check.\n",
            " - Original module\n",
            "   - No original module exists within this kernel\n",
            " - Installation\n",
            "   - Installing to /lib/modules/5.15.0-86-generic/updates/dkms/\n",
            "\n",
            "nvidia-modeset.ko:\n",
            "Running module version sanity check.\n",
            " - Original module\n",
            "   - No original module exists within this kernel\n",
            " - Installation\n",
            "   - Installing to /lib/modules/5.15.0-86-generic/updates/dkms/\n",
            "\n",
            "nvidia-drm.ko:\n",
            "Running module version sanity check.\n",
            " - Original module\n",
            "   - No original module exists within this kernel\n",
            " - Installation\n",
            "   - Installing to /lib/modules/5.15.0-86-generic/updates/dkms/\n",
            "\n",
            "nvidia-peermem.ko:\n",
            "Running module version sanity check.\n",
            " - Original module\n",
            "   - No original module exists within this kernel\n",
            " - Installation\n",
            "   - Installing to /lib/modules/5.15.0-86-generic/updates/dkms/\n",
            "\n",
            "nvidia-uvm.ko:\n",
            "Running module version sanity check.\n",
            " - Original module\n",
            "   - No original module exists within this kernel\n",
            " - Installation\n",
            "   - Installing to /lib/modules/5.15.0-86-generic/updates/dkms/\n",
            "\n",
            "depmod...\n",
            "Setting up nvidia-driver-535 (535.104.12-0ubuntu1) ...\n",
            "Setting up cuda-drivers-535 (535.104.12-1) ...\n",
            "Setting up cuda-drivers (535.104.12-1) ...\n",
            "Setting up cuda-runtime-12-2 (12.2.2-1) ...\n",
            "Setting up cuda-demo-suite-12-2 (12.2.140-1) ...\n",
            "Setting up cuda-12-2 (12.2.2-1) ...\n",
            "Setting up cuda (12.2.2-1) ...\n",
            "Processing triggers for man-db (2.10.2-1) ...\n",
            "Processing triggers for dbus (1.12.20-2ubuntu4.1) ...\n",
            "Processing triggers for fontconfig (2.13.1-4.2ubuntu5) ...\n",
            "Processing triggers for hicolor-icon-theme (0.17-2) ...\n",
            "Processing triggers for libc-bin (2.35-0ubuntu3.1) ...\n",
            "/sbin/ldconfig.real: /usr/local/lib/libtbbbind_2_5.so.3 is not a symbolic link\n",
            "\n",
            "/sbin/ldconfig.real: /usr/local/lib/libtbb.so.12 is not a symbolic link\n",
            "\n",
            "/sbin/ldconfig.real: /usr/local/lib/libtbbmalloc_proxy.so.2 is not a symbolic link\n",
            "\n",
            "/sbin/ldconfig.real: /usr/local/lib/libtbbbind_2_0.so.3 is not a symbolic link\n",
            "\n",
            "/sbin/ldconfig.real: /usr/local/lib/libtbbbind.so.3 is not a symbolic link\n",
            "\n",
            "/sbin/ldconfig.real: /usr/local/lib/libtbbmalloc.so.2 is not a symbolic link\n",
            "\n",
            "Reading package lists... Done\n",
            "Building dependency tree... Done\n",
            "Reading state information... Done\n",
            "The following additional packages will be installed:\n",
            "  libcudnn8-dev\n",
            "The following held packages will be changed:\n",
            "  libcudnn8\n",
            "The following packages will be upgraded:\n",
            "  libcudnn8 libcudnn8-dev\n",
            "2 upgraded, 0 newly installed, 0 to remove and 15 not upgraded.\n",
            "Need to get 877 MB of archives.\n",
            "After this operation, 83.2 MB disk space will be freed.\n",
            "Get:1 https://developer.download.nvidia.com/compute/cuda/repos/ubuntu2204/x86_64  libcudnn8-dev 8.9.5.29-1+cuda12.2 [436 MB]\n",
            "Get:2 https://developer.download.nvidia.com/compute/cuda/repos/ubuntu2204/x86_64  libcudnn8 8.9.5.29-1+cuda12.2 [441 MB]\n",
            "Fetched 877 MB in 12s (74.6 MB/s)\n",
            "debconf: unable to initialize frontend: Dialog\n",
            "debconf: (No usable dialog-like program is installed, so the dialog based frontend cannot be used. at /usr/share/perl5/Debconf/FrontEnd/Dialog.pm line 78, <> line 2.)\n",
            "debconf: falling back to frontend: Readline\n",
            "debconf: unable to initialize frontend: Readline\n",
            "debconf: (This frontend requires a controlling tty.)\n",
            "debconf: falling back to frontend: Teletype\n",
            "dpkg-preconfigure: unable to re-open stdin: \n",
            "(Reading database ... 129304 files and directories currently installed.)\n",
            "Preparing to unpack .../libcudnn8-dev_8.9.5.29-1+cuda12.2_amd64.deb ...\n",
            "update-alternatives: removing manually selected alternative - switching libcudnn to auto mode\n",
            "Unpacking libcudnn8-dev (8.9.5.29-1+cuda12.2) over (8.9.0.131-1+cuda11.8) ...\n",
            "Preparing to unpack .../libcudnn8_8.9.5.29-1+cuda12.2_amd64.deb ...\n",
            "Unpacking libcudnn8 (8.9.5.29-1+cuda12.2) over (8.9.0.131-1+cuda11.8) ...\n",
            "Setting up libcudnn8 (8.9.5.29-1+cuda12.2) ...\n",
            "Setting up libcudnn8-dev (8.9.5.29-1+cuda12.2) ...\n",
            "update-alternatives: using /usr/include/x86_64-linux-gnu/cudnn_v8.h to provide /usr/include/cudnn.h (libcudnn) in auto mode\n",
            "\u001b[33mWARNING: Running pip as the 'root' user can result in broken permissions and conflicting behaviour with the system package manager. It is recommended to use a virtual environment instead: https://pip.pypa.io/warnings/venv\u001b[0m\u001b[33m\n",
            "\u001b[2K     \u001b[90m━━━━━━━━━━━━━━━━━━━━━━━━━━━━━━━━━━━━━━━━\u001b[0m \u001b[32m497.6/497.6 MB\u001b[0m \u001b[31m3.6 MB/s\u001b[0m eta \u001b[36m0:00:00\u001b[0m\n",
            "\u001b[2K     \u001b[90m━━━━━━━━━━━━━━━━━━━━━━━━━━━━━━━━━━━━━━━━\u001b[0m \u001b[32m42.6/42.6 kB\u001b[0m \u001b[31m3.4 MB/s\u001b[0m eta \u001b[36m0:00:00\u001b[0m\n",
            "\u001b[2K     \u001b[90m━━━━━━━━━━━━━━━━━━━━━━━━━━━━━━━━━━━━━━━━\u001b[0m \u001b[32m5.8/5.8 MB\u001b[0m \u001b[31m110.7 MB/s\u001b[0m eta \u001b[36m0:00:00\u001b[0m\n",
            "\u001b[2K     \u001b[90m━━━━━━━━━━━━━━━━━━━━━━━━━━━━━━━━━━━━━━━━\u001b[0m \u001b[32m462.5/462.5 kB\u001b[0m \u001b[31m33.3 MB/s\u001b[0m eta \u001b[36m0:00:00\u001b[0m\n",
            "\u001b[2K     \u001b[90m━━━━━━━━━━━━━━━━━━━━━━━━━━━━━━━━━━━━━━━━\u001b[0m \u001b[32m1.4/1.4 MB\u001b[0m \u001b[31m73.8 MB/s\u001b[0m eta \u001b[36m0:00:00\u001b[0m\n",
            "\u001b[2K     \u001b[90m━━━━━━━━━━━━━━━━━━━━━━━━━━━━━━━━━━━━━━━━\u001b[0m \u001b[32m4.9/4.9 MB\u001b[0m \u001b[31m110.2 MB/s\u001b[0m eta \u001b[36m0:00:00\u001b[0m\n",
            "\u001b[2K     \u001b[90m━━━━━━━━━━━━━━━━━━━━━━━━━━━━━━━━━━━━━━━━\u001b[0m \u001b[32m781.3/781.3 kB\u001b[0m \u001b[31m50.0 MB/s\u001b[0m eta \u001b[36m0:00:00\u001b[0m\n",
            "\u001b[?25h\u001b[33mWARNING: Running pip as the 'root' user can result in broken permissions and conflicting behaviour with the system package manager. It is recommended to use a virtual environment instead: https://pip.pypa.io/warnings/venv\u001b[0m\u001b[33m\n",
            "\u001b[2K     \u001b[90m━━━━━━━━━━━━━━━━━━━━━━━━━━━━━━━━━━━━━━━━\u001b[0m \u001b[32m50.7/50.7 kB\u001b[0m \u001b[31m2.7 MB/s\u001b[0m eta \u001b[36m0:00:00\u001b[0m\n",
            "\u001b[?25h\u001b[33mWARNING: Running pip as the 'root' user can result in broken permissions and conflicting behaviour with the system package manager. It is recommended to use a virtual environment instead: https://pip.pypa.io/warnings/venv\u001b[0m\u001b[33m\n",
            "\u001b[0m\u001b[33mWARNING: Running pip as the 'root' user can result in broken permissions and conflicting behaviour with the system package manager. It is recommended to use a virtual environment instead: https://pip.pypa.io/warnings/venv\u001b[0m\u001b[33m\n",
            "\u001b[0m\u001b[33mWARNING: Running pip as the 'root' user can result in broken permissions and conflicting behaviour with the system package manager. It is recommended to use a virtual environment instead: https://pip.pypa.io/warnings/venv\u001b[0m\u001b[33m\n",
            "\u001b[0m"
          ]
        }
      ]
    },
    {
      "cell_type": "code",
      "execution_count": null,
      "metadata": {
        "execution": {
          "iopub.execute_input": "2023-09-27T19:44:46.655630Z",
          "iopub.status.busy": "2023-09-27T19:44:46.655552Z",
          "iopub.status.idle": "2023-09-27T19:44:48.647217Z",
          "shell.execute_reply": "2023-09-27T19:44:48.646865Z",
          "shell.execute_reply.started": "2023-09-27T19:44:46.655623Z"
        },
        "id": "oTwAcbq2-FZz"
      },
      "outputs": [],
      "source": [
        "import deeplabcut\n",
        "import os\n",
        "import shutil"
      ]
    },
    {
      "cell_type": "markdown",
      "source": [
        "# Now, let's link to your Google Drive. Run this next cell and follow the authorization instructions."
      ],
      "metadata": {
        "id": "5xHz6RHzKS93"
      }
    },
    {
      "cell_type": "code",
      "source": [
        "from google.colab import drive\n",
        "drive.mount('/content/drive', force_remount = True)"
      ],
      "metadata": {
        "colab": {
          "base_uri": "https://localhost:8080/"
        },
        "id": "Rnu9usxOKAtd",
        "outputId": "4eac41e5-9196-4202-ffe1-7d8830b1b29f"
      },
      "execution_count": null,
      "outputs": [
        {
          "output_type": "stream",
          "name": "stdout",
          "text": [
            "Mounted at /content/drive\n"
          ]
        }
      ]
    },
    {
      "cell_type": "markdown",
      "metadata": {
        "id": "cQ-nlTkri4HZ"
      },
      "source": [
        "- This code assumes you first locally installed DeepLabCut, created a project, extracted and labeled frames already.\n",
        "\n",
        "- Be sure to \"check Labels\" to confirm you are happy with your data as these frames are the only thing that is used to train your network. You can find all the docs to do this here: https://deeplabcut.github.io/DeepLabCut\n",
        "\n",
        "- Next, change directory to the DLC project folder you created previously named \"Project-YourName-TheDate\""
      ]
    },
    {
      "cell_type": "markdown",
      "source": [
        "# **First cell you will need to edit to fit your project**"
      ],
      "metadata": {
        "id": "bylGqV4SO2EI"
      }
    },
    {
      "cell_type": "code",
      "execution_count": null,
      "metadata": {
        "execution": {
          "iopub.execute_input": "2023-09-27T19:44:53.341535Z",
          "iopub.status.busy": "2023-09-27T19:44:53.341271Z",
          "iopub.status.idle": "2023-09-27T19:44:53.343593Z",
          "shell.execute_reply": "2023-09-27T19:44:53.343349Z",
          "shell.execute_reply.started": "2023-09-27T19:44:53.341526Z"
        },
        "id": "KS4Q4UkR9rgG"
      },
      "outputs": [],
      "source": [
        "# The base path for Google Drive is \"/content/drive/MyDrive/\"\n",
        "# My folder \"JP23A Run 1 Phase III-Daniel-2023-05-10\" is in the subfolder \"DeepLabCut\" in my Google Drive so that's why I added \"DeepLabCut/\" to this.\n",
        "# Make sure there is a backslash / at the end of each of these path variables\n",
        "google_drive_path = \"/content/drive/MyDrive/DeepLabCut/\"\n",
        "\n",
        "# set project_name variable to name of project folder\n",
        "project_name = 'myprojectfoldername'"
      ]
    },
    {
      "cell_type": "markdown",
      "source": [
        "## ***If you get an error from running the cell below then you did not set the folder location correctly in the cell above.***"
      ],
      "metadata": {
        "id": "vovc08uuPJvP"
      }
    },
    {
      "cell_type": "code",
      "source": [
        "# This sets the full path location of the project folder in Google Drive to tell Google Colab where to store output later\n",
        "project_folder = google_drive_path + project_name\n",
        "\n",
        "# move to directory where project folder is located\n",
        "os.chdir(project_folder)\n",
        "\n",
        "# verify you are in the correct location\n",
        "os.getcwd()"
      ],
      "metadata": {
        "colab": {
          "base_uri": "https://localhost:8080/",
          "height": 35
        },
        "id": "pjceLncfPB3e",
        "outputId": "70cbb7dd-52f7-495c-c094-1ac746378016"
      },
      "execution_count": null,
      "outputs": [
        {
          "output_type": "execute_result",
          "data": {
            "text/plain": [
              "'/content/drive/MyDrive/DeepLabCut/JP23A Run 1 Phase III-Daniel-2023-05-10'"
            ],
            "application/vnd.google.colaboratory.intrinsic+json": {
              "type": "string"
            }
          },
          "metadata": {},
          "execution_count": 17
        }
      ]
    },
    {
      "cell_type": "markdown",
      "metadata": {
        "id": "Frnj1RVDyEqs"
      },
      "source": [
        "## **Second cell that needs editing**\n"
      ]
    },
    {
      "cell_type": "code",
      "source": [
        "# The name of your config file, by default it's named config.yaml unless you changed it.\n",
        "path_config_file = project_folder + 'config.yaml'\n",
        "\n",
        "# Enter Phase for these videos, this will serve as the subfolder name for storing analysis output for this data later\n",
        "# If first time running, you could name it something like \"Run1-Phase1\" or anything else of your choosing\n",
        "this_phase = 'myfirstphase'"
      ],
      "metadata": {
        "id": "BuYunY2CQMEp"
      },
      "execution_count": null,
      "outputs": []
    },
    {
      "cell_type": "markdown",
      "source": [
        "## **The rest of the code below should be fine to run as is *up until the section \"Analyzing New Videos\"* where the cells in that section will need to be edited if you decide to label new videos based on this model.**"
      ],
      "metadata": {
        "id": "iN3O-5AdRF6G"
      }
    },
    {
      "cell_type": "code",
      "execution_count": null,
      "metadata": {
        "execution": {
          "iopub.execute_input": "2023-09-27T19:45:56.790792Z",
          "iopub.status.busy": "2023-09-27T19:45:56.790663Z",
          "iopub.status.idle": "2023-09-27T19:45:56.794290Z",
          "shell.execute_reply": "2023-09-27T19:45:56.793793Z",
          "shell.execute_reply.started": "2023-09-27T19:45:56.790785Z"
        },
        "id": "vhENAlQnFENJ"
      },
      "outputs": [],
      "source": [
        "# Set path of the folder of videos to analyze based on project_folder path\n",
        "videofile_path = [project_folder + 'videos/' + this_phase]\n",
        "\n",
        "# Which shuffle do you want to create and train? Edit if needed, 1 is the default.\n",
        "shuffle = 1\n",
        "\n",
        "# This will be where the results for this phase will be stored later\n",
        "analysis_destination_path = project_folder + 'results/' + this_phase"
      ]
    },
    {
      "cell_type": "markdown",
      "source": [
        "##*This cell is only necessary to run the first time when creating the project, so if second time running and you get an error that says \"folders already exist,\" please ignore.*\n",
        "\n"
      ],
      "metadata": {
        "id": "f-oPazq1SXmI"
      }
    },
    {
      "cell_type": "code",
      "source": [
        "# Create a results folder within project directory to store output data\n",
        "os.mkdir('results')\n",
        "\n",
        "# Create location in results folder where output data will be stored\n",
        "os.mkdir(analysis_destination_path)\n",
        "\n",
        "# Create folder where future new video folders can be stored in case we want to use this model on new videos not included in first run\n",
        "new_videos_folder = project_folder + 'new-videos/'\n",
        "os.mkdir(new_videos_folder)"
      ],
      "metadata": {
        "id": "osXrTre6KtaC"
      },
      "execution_count": null,
      "outputs": []
    },
    {
      "cell_type": "markdown",
      "metadata": {
        "id": "c4FczXGDoEJU"
      },
      "source": [
        "#**Start training**\n",
        "This function trains the network for a specific shuffle of the training dataset.\n",
        " - more info: https://deeplabcut.github.io/DeepLabCut/docs/\n",
        "\n",
        "## Useful information for deeplabcut.create_training_dataset()\n",
        "\n",
        "***Do not*** run this a <u>**second**</u> time if only increasing max_iters for deeplabcut.train_network(). Only rerun this line again if you edited the config to add more videos, extract more frames, or label more frames."
      ]
    },
    {
      "cell_type": "markdown",
      "metadata": {
        "id": "P4L88LPnbbGi"
      },
      "source": []
    },
    {
      "cell_type": "code",
      "execution_count": null,
      "metadata": {
        "execution": {
          "iopub.execute_input": "2023-07-22T04:26:10.282369Z",
          "iopub.status.busy": "2023-07-22T04:26:10.281905Z",
          "iopub.status.idle": "2023-07-22T04:26:10.417991Z",
          "shell.execute_reply": "2023-07-22T04:26:10.417741Z",
          "shell.execute_reply.started": "2023-07-22T04:26:10.282335Z"
        },
        "id": "DLQw-Awng5PY"
      },
      "outputs": [],
      "source": [
        "deeplabcut.create_training_dataset(path_config_file,\n",
        "                                   net_type='resnet_50',\n",
        "                                   augmenter_type = 'imgaug',\n",
        "                                   Shuffles = [shuffle],\n",
        "                                   windows2linux = False)"
      ]
    },
    {
      "cell_type": "markdown",
      "metadata": {
        "id": "jNMEFa2ubbGj"
      },
      "source": [
        "## Useful information for deeplabcut.train_network()\n",
        "\n",
        "When training for a <u>**second**</u> time, **if** the 'max_iters' variable is set to the same value as the last snapshot iteration number, this will cause an error. This happens because it actually now starts from the iteration of the last snapshot.\n",
        "\n",
        "For example, if you originally trained it with 200,000 iterations and now want another 200k iterations to improve accuracy, then change max_iters to 400000"
      ]
    },
    {
      "cell_type": "code",
      "execution_count": null,
      "metadata": {
        "execution": {
          "iopub.execute_input": "2023-07-22T04:26:32.952378Z",
          "iopub.status.busy": "2023-07-22T04:26:32.951861Z",
          "iopub.status.idle": "2023-07-22T04:41:08.517618Z",
          "shell.execute_reply": "2023-07-22T04:41:08.517052Z",
          "shell.execute_reply.started": "2023-07-22T04:26:32.952340Z"
        },
        "id": "1RT-tE2AhhSL",
        "scrolled": true
      },
      "outputs": [],
      "source": [
        "deeplabcut.train_network(path_config_file,\n",
        "                         shuffle = shuffle,\n",
        "                         displayiters = 100,\n",
        "                         saveiters = 1000,\n",
        "                         maxiters = 75000,\n",
        "                         allow_growth = True)"
      ]
    },
    {
      "cell_type": "markdown",
      "source": [
        "### *This code assumes videos are in mp4 format so if not please edit videotype parameter here and in the following cells*"
      ],
      "metadata": {
        "id": "kd5j9vK3eMZL"
      }
    },
    {
      "cell_type": "code",
      "execution_count": null,
      "metadata": {
        "execution": {
          "iopub.execute_input": "2023-07-22T04:44:12.606223Z",
          "iopub.status.busy": "2023-07-22T04:44:12.605738Z",
          "iopub.status.idle": "2023-07-22T05:04:12.960910Z",
          "shell.execute_reply": "2023-07-22T05:04:12.960555Z",
          "shell.execute_reply.started": "2023-07-22T04:44:12.606188Z"
        },
        "id": "vHXniCyn1Wvx"
      },
      "outputs": [],
      "source": [
        "deeplabcut.analyze_videos(path_config_file,\n",
        "                          videofile_path,\n",
        "                          shuffle = shuffle,\n",
        "                          save_as_csv = True,\n",
        "                          destfolder = analysis_destination_path,\n",
        "                          videotype = 'mp4')"
      ]
    },
    {
      "cell_type": "markdown",
      "metadata": {
        "id": "pCrUvQIvoEKD"
      },
      "source": [
        "## Create labeled video:\n",
        "This function is for visualiztion purpose and can be used to create a video in .mp4 format with labels predicted by the network. This video is originally saved in the same directory where the original video resides but we move it to the labeled-videos folder in the main project folder in the following cell."
      ]
    },
    {
      "cell_type": "code",
      "execution_count": null,
      "metadata": {
        "execution": {
          "iopub.execute_input": "2023-07-22T05:07:48.558316Z",
          "iopub.status.busy": "2023-07-22T05:07:48.557832Z",
          "iopub.status.idle": "2023-07-22T05:08:56.647154Z",
          "shell.execute_reply": "2023-07-22T05:08:56.646657Z",
          "shell.execute_reply.started": "2023-07-22T05:07:48.558280Z"
        },
        "id": "rgTy5ap82zDl"
      },
      "outputs": [],
      "source": [
        "deeplabcut.create_labeled_video(path_config_file,\n",
        "                                videofile_path,\n",
        "                                destfolder = analysis_destination_path,\n",
        "                                videotype = 'mp4',\n",
        "                                save_frames = False)"
      ]
    },
    {
      "cell_type": "code",
      "execution_count": null,
      "metadata": {
        "execution": {
          "iopub.execute_input": "2023-07-22T05:22:04.594403Z",
          "iopub.status.busy": "2023-07-22T05:22:04.593919Z",
          "iopub.status.idle": "2023-07-22T05:22:04.602950Z",
          "shell.execute_reply": "2023-07-22T05:22:04.601800Z",
          "shell.execute_reply.started": "2023-07-22T05:22:04.594367Z"
        },
        "id": "fTY0x8_PbbGk"
      },
      "outputs": [],
      "source": [
        "# Create location for labeled-videos\n",
        "labeled_videos_folder = project_folder + 'labeled-videos/'\n",
        "os.mkdir(labeled_videos_folder)\n",
        "\n",
        "# Organize output data into folders by file type\n",
        "os.chdir(analysis_destination_path)\n",
        "these_labeled_videos = labeled_videos_folder + this_phase\n",
        "\n",
        "os.mkdir('CSVs')\n",
        "os.mkdir('h5')\n",
        "os.mkdir('pickle')\n",
        "os.mkdir(these_labeled_videos)\n",
        "\n",
        "all_analysis_files = os.listdir()\n",
        "\n",
        "for f in all_analysis_files:\n",
        "    if f.endswith('.csv'):\n",
        "        shutil.move(f, 'CSVs')\n",
        "    elif f.endswith('.h5'):\n",
        "        shutil.move(f, 'h5')\n",
        "    elif f.endswith('.pickle'):\n",
        "        shutil.move(f, 'pickle')\n",
        "    elif f.endswith('.mp4'):\n",
        "        shutil.move(f, these_labeled_videos)"
      ]
    },
    {
      "cell_type": "markdown",
      "metadata": {
        "id": "fYlGbloolDU2"
      },
      "source": [
        "***If these images, numbers, and maps do not look good, do not proceed. You should increase the diversity and number of frames you label, and re-create a training dataset and re-train!***"
      ]
    },
    {
      "cell_type": "markdown",
      "metadata": {
        "id": "OVFLSKKfoEJk"
      },
      "source": [
        "# **Analyzing New Videos**\n",
        "This function analyzes the new videos. The user can choose the best model from the evaluation results and specify the correct snapshot index for the variable **snapshotindex** in the **config.yaml** file. Otherwise, by default the most recent snapshot is used to analyse the video.\n",
        "\n",
        "The results are stored in CSV, h5, and pickle format file in the analysis_destination_path."
      ]
    },
    {
      "cell_type": "markdown",
      "source": [
        "##**Set \"this_phase\" variable to the name of the folder of videos within the new-videos folder you want to analyze. This should be the only variable you need to change to label new videos and is the name of the folder within new-videos folder**"
      ],
      "metadata": {
        "id": "zKMUZ3QfTeXG"
      }
    },
    {
      "cell_type": "code",
      "source": [
        "this_phase = 'mynewphase'"
      ],
      "metadata": {
        "id": "LZ6DqdmCTaUg"
      },
      "execution_count": null,
      "outputs": []
    },
    {
      "cell_type": "code",
      "execution_count": null,
      "metadata": {
        "execution": {
          "iopub.execute_input": "2023-09-27T19:46:28.473242Z",
          "iopub.status.busy": "2023-09-27T19:46:28.473122Z"
        },
        "id": "Y_LZiS_0oEJl",
        "scrolled": true
      },
      "outputs": [],
      "source": [
        "print(\"Analyzing new videos\")\n",
        "new_videos_folder = project_folder + 'new-videos/'\n",
        "new_videofile_path = [new_videos_folder + this_phase]\n",
        "analysis_destination_path = project_folder + 'results/' + this_phase\n",
        "os.mkdir(analysis_destination_path)"
      ]
    },
    {
      "cell_type": "code",
      "execution_count": null,
      "metadata": {
        "execution": {
          "iopub.execute_input": "2023-08-14T20:25:20.023310Z",
          "iopub.status.busy": "2023-08-14T20:25:20.023153Z",
          "iopub.status.idle": "2023-08-14T20:27:31.125738Z",
          "shell.execute_reply": "2023-08-14T20:27:31.125310Z",
          "shell.execute_reply.started": "2023-08-14T20:25:20.023302Z"
        },
        "scrolled": true,
        "id": "Z3HgmJEEbbGl"
      },
      "outputs": [],
      "source": [
        "deeplabcut.analyze_videos(path_config_file,\n",
        "                          new_videofile_path,\n",
        "                          shuffle = shuffle,\n",
        "                          save_as_csv = True,\n",
        "                          destfolder = analysis_destination_path,\n",
        "                          videotype = 'mp4')\n",
        "\n",
        "deeplabcut.create_labeled_video(path_config_file,\n",
        "                                new_videofile_path,\n",
        "                                destfolder = analysis_destination_path,\n",
        "                                videotype = 'mp4',\n",
        "                                save_frames = False)"
      ]
    },
    {
      "cell_type": "code",
      "execution_count": null,
      "metadata": {
        "execution": {
          "iopub.execute_input": "2023-08-14T21:14:35.885657Z",
          "iopub.status.busy": "2023-08-14T21:14:35.885547Z",
          "iopub.status.idle": "2023-08-14T21:14:35.889029Z",
          "shell.execute_reply": "2023-08-14T21:14:35.888699Z",
          "shell.execute_reply.started": "2023-08-14T21:14:35.885649Z"
        },
        "id": "Il8e_c7KbbGl"
      },
      "outputs": [],
      "source": [
        "# Set path for labeled-videos folder\n",
        "labeled_videos_folder = project_folder + 'labeled-videos/'\n",
        "\n",
        "# Organize output data into folders by file type\n",
        "os.chdir(analysis_destination_path)\n",
        "these_labeled_videos = labeled_videos_folder + this_phase\n",
        "\n",
        "os.mkdir('CSVs')\n",
        "os.mkdir('h5')\n",
        "os.mkdir('pickle')\n",
        "os.mkdir(these_labeled_videos)\n",
        "\n",
        "all_analysis_files = os.listdir()\n",
        "\n",
        "for f in all_analysis_files:\n",
        "    if f.endswith('.csv'):\n",
        "        shutil.move(f, 'CSVs')\n",
        "    elif f.endswith('.h5'):\n",
        "        shutil.move(f, 'h5')\n",
        "    elif f.endswith('.pickle'):\n",
        "        shutil.move(f, 'pickle')\n",
        "    elif f.endswith('.mp4'):\n",
        "        shutil.move(f, these_labeled_videos)"
      ]
    },
    {
      "cell_type": "markdown",
      "metadata": {
        "id": "xZygsb2DoEJc"
      },
      "source": [
        "# **Evaluating Model**\n",
        "\n",
        "### This section is <u>***not***</u> necessary for training and labeling and is only if you want to estimate how good the model is doing. I have not cleaned this up so you will need to set variable names appropriately and likely edit some code below before you are able to run successfully\n",
        "- First, we evaluate the pose estimation performance.\n",
        "\n",
        "- This function evaluates a trained model for a specific shuffle/shuffles at a particular state or all the states on the data set (images) and stores the results as .5 and .csv file in a subdirectory under **evaluation-results**\n",
        "\n",
        "- If the scoremaps do not look accurate, do **NOT** proceed to tracklet assembly, please consider editing config.yaml to:\n",
        "  1. Add more videos\n",
        "  2. Extract more frames for labeling\n",
        "  3. Increase max_iters in deeplabcut.train_network\n",
        "\n",
        "***Remember that if you edit the config.yaml file to do 1 or 2, you need to recreate the training set for updated config by rerunning cell in Train Network section above with deeplabcut.create_training_dataset***\n",
        "\n",
        "- more info: https://deeplabcut.github.io/DeepLabCut/docs/maDLC_UserGuide.html#evaluate-the-trained-network"
      ]
    },
    {
      "cell_type": "code",
      "execution_count": null,
      "metadata": {
        "id": "nv4zlbrnoEJg",
        "scrolled": true
      },
      "outputs": [],
      "source": [
        "#let's evaluate first:\n",
        "deeplabcut.evaluate_network(path_config_file ,\n",
        "                            Shuffles = [shuffle],\n",
        "                            plotting = True)"
      ]
    },
    {
      "cell_type": "code",
      "execution_count": null,
      "metadata": {
        "id": "G1cEOtZlbbGl"
      },
      "outputs": [],
      "source": [
        "#plot a few scoremaps:\n",
        "deeplabcut.extract_save_all_maps(path_config_file,\n",
        "                                 shuffle = shuffle,\n",
        "                                 Indices=[0])"
      ]
    },
    {
      "cell_type": "markdown",
      "metadata": {
        "id": "91xBLOcBzGxo"
      },
      "source": [
        "Optional: Now you have the option to check the raw dections before animals are assembled. To do so, pass a video path:"
      ]
    },
    {
      "cell_type": "code",
      "execution_count": null,
      "metadata": {
        "id": "65mWwX5bTc5C"
      },
      "outputs": [],
      "source": [
        "##### PROTIP: #####\n",
        "## look at the output video; if the pose estimation (i.e. key points)\n",
        "## don't look good, don't proceed with tracking - add more data to your training set and re-train!\n",
        "\n",
        "#EDIT: let's check a specific video (PLEASE EDIT VIDEO PATH):\n",
        "Specific_videofile = '/content/drive/My Drive/myprojectfoldername/videos/myvideo.mp4'\n",
        "\n",
        "\n",
        "deeplabcut.create_video_with_all_detections(path_config_file, [Specific_videofile], shuffle=shuffle)"
      ]
    },
    {
      "cell_type": "markdown",
      "metadata": {
        "id": "3-OgTJ0Lz20e"
      },
      "source": [
        "If the resutling video (ends in full.mp4) is not good, we highly recommend adding more data and training again. See here: https://deeplabcut.github.io/DeepLabCut/docs/maDLC_UserGuide.html#decision-break-point"
      ]
    },
    {
      "cell_type": "markdown",
      "metadata": {
        "id": "PxRLS2_-r55K"
      },
      "source": [
        "# Next, we will assemble animals using our data-driven optimal graph method:\n",
        "\n",
        "- Here, we will find the optimal graph, which matches the \"data-driven\" method from our paper (Figure adapted from Lauer et al. 2021):\n",
        "\n",
        "![alt text](https://images.squarespace-cdn.com/content/v1/57f6d51c9f74566f55ecf271/1626266017809-XO6NX84QB4FBAZGOTCEY/fig3.jpg?format=400w)\n",
        "\n",
        "\n",
        "- note, you can set the number of animals you expect to see, so check, edit, then click run:"
      ]
    },
    {
      "cell_type": "code",
      "execution_count": null,
      "metadata": {
        "colab": {
          "base_uri": "https://localhost:8080/"
        },
        "id": "zIvXM7TXIs-U",
        "outputId": "9b47c291-958a-4bd6-93c8-44cd21617d71"
      },
      "outputs": [
        {
          "name": "stdout",
          "output_type": "stream",
          "text": [
            "Using snapshot-52000 for model /content/drive/My Drive/trial3-daniel-2023-03-25/dlc-models/iteration-0/trial3Mar25-trainset95shuffle1\n",
            "Analyzing all the videos in the directory...\n",
            "Processing...  /content/drive/My Drive/trial3-daniel-2023-03-25/videos/Trial3.mp4\n",
            "Analyzing /content/drive/My Drive/trial3-daniel-2023-03-25/videos/Trial3DLC_dlcrnetms5_trial3Mar25shuffle1_52000.h5\n"
          ]
        },
        {
          "name": "stderr",
          "output_type": "stream",
          "text": [
            "100%|██████████| 15186/15186 [00:26<00:00, 579.90it/s] \n",
            "15186it [00:00, 629861.07it/s]\n"
          ]
        },
        {
          "name": "stdout",
          "output_type": "stream",
          "text": [
            "Processing...  /content/drive/My Drive/trial3-daniel-2023-03-25/videos/Trial4.mp4\n",
            "Analyzing /content/drive/My Drive/trial3-daniel-2023-03-25/videos/Trial4DLC_dlcrnetms5_trial3Mar25shuffle1_52000.h5\n"
          ]
        },
        {
          "name": "stderr",
          "output_type": "stream",
          "text": [
            "100%|██████████| 15186/15186 [00:17<00:00, 861.39it/s] \n",
            "15186it [00:00, 522811.93it/s]\n"
          ]
        },
        {
          "name": "stdout",
          "output_type": "stream",
          "text": [
            "The tracklets were created (i.e., under the hood deeplabcut.convert_detections2tracklets was run). Now you can 'refine_tracklets' in the GUI, or run 'deeplabcut.stitch_tracklets'.\n"
          ]
        }
      ],
      "source": [
        "#Check and edit:\n",
        "numAnimals = 1 #how many animals do you expect to find?\n",
        "tracktype= 'skeleton' #box, skeleton, ellipse:\n",
        "#-- ellipse is recommended, unless you have a single-point ma project, then use BOX!\n",
        "\n",
        "#Optional:\n",
        "#imagine you tracked a point that is not useful for assembly,\n",
        "#like a tail tip that is far from the body, consider dropping it for this step (it's still used later)!\n",
        "#To drop it, uncomment the next line TWO lines and add your parts(s):\n",
        "\n",
        "#bodypart= 'Tail_end'\n",
        "#deeplabcut.convert_detections2tracklets(path_config_file, videofile_path, videotype=VideoType, shuffle=shuffle, overwrite=True, ignore_bodyparts=[bodypart])\n",
        "\n",
        "#OR don't drop, just click RUN:\n",
        "deeplabcut.convert_detections2tracklets(path_config_file,\n",
        "                                        videofile_path,\n",
        "                                        videotype = VideoType,\n",
        "                                        shuffle = shuffle,\n",
        "                                        overwrite = False)"
      ]
    },
    {
      "cell_type": "code",
      "execution_count": null,
      "metadata": {
        "id": "F89GCSDSRrzA"
      },
      "outputs": [],
      "source": [
        "# split this from code above to see if this is the problem\n",
        "#deeplabcut.stitch_tracklets(path_config_file, videofile_path, shuffle=shuffle, track_method=tracktype, n_tracks=numAnimals)\n",
        "deeplabcut.utils.make_labeled_video.create_video_from_pickled_tracks(Specific_videofile, '/content/drive/My Drive/DeepLabCut/myprojectfolder/results/myfirstphase/pickle/mypicklefile.pickle')"
      ]
    },
    {
      "cell_type": "markdown",
      "metadata": {
        "id": "TqbAnyfL0Q7h"
      },
      "source": [
        "Now let's filter the data to remove any small jitter:"
      ]
    },
    {
      "cell_type": "code",
      "execution_count": null,
      "metadata": {
        "id": "a6izVWX8sdzL"
      },
      "outputs": [],
      "source": [
        "deeplabcut.filterpredictions(path_config_file,\n",
        "                                 videofile_path,\n",
        "                                 shuffle=shuffle,\n",
        "                                 videotype=VideoType,\n",
        "                                 track_method = tracktype)"
      ]
    },
    {
      "cell_type": "markdown",
      "metadata": {
        "id": "Zk4xGb8Ftf3B"
      },
      "source": [
        "## Create plots of your trajectories:"
      ]
    },
    {
      "cell_type": "code",
      "execution_count": null,
      "metadata": {
        "colab": {
          "base_uri": "https://localhost:8080/"
        },
        "id": "gX21zZbXoEKJ",
        "outputId": "98995a15-815d-4656-b1b8-531af945c0fc"
      },
      "outputs": [
        {
          "name": "stdout",
          "output_type": "stream",
          "text": [
            "Analyzing all the videos in the directory...\n",
            "Loading  /content/drive/My Drive/trial3-daniel-2023-03-25/videos/Trial4.mp4 and data.\n",
            "No unfiltered data file found in /content/drive/My Drive/trial3-daniel-2023-03-25/videos for video Trial4 and scorer DLC_dlcrnetms5_trial3Mar25shuffle1_52000 and box tracker.\n",
            "No detection data found in /content/drive/My Drive/trial3-daniel-2023-03-25/videos for video Trial4, scorer DLC_dlcrnetms5_trial3Mar25shuffle1_52000, and tracker box\n",
            "Loading  /content/drive/My Drive/trial3-daniel-2023-03-25/videos/Trial3.mp4 and data.\n",
            "No unfiltered data file found in /content/drive/My Drive/trial3-daniel-2023-03-25/videos for video Trial3 and scorer DLC_dlcrnetms5_trial3Mar25shuffle1_52000 and box tracker.\n",
            "No detection data found in /content/drive/My Drive/trial3-daniel-2023-03-25/videos for video Trial3, scorer DLC_dlcrnetms5_trial3Mar25shuffle1_52000, and tracker box\n",
            "Plots could not be created for /content/drive/My Drive/trial3-daniel-2023-03-25/videos/Trial4.mp4,/content/drive/My Drive/trial3-daniel-2023-03-25/videos/Trial3.mp4. Videos were not evaluated with the current scorer DLC_dlcrnetms5_trial3Mar25shuffle1_52000: Make sure /content/drive/My Drive/trial3-daniel-2023-03-25/videos/Trial4.mp4 was previously analyzed, and that detections were successively converted to tracklets using \"deeplabcut.convert_detections2tracklets()\" and \"deeplabcut.stitch_tracklets()\". Make sure /content/drive/My Drive/trial3-daniel-2023-03-25/videos/Trial3.mp4 was previously analyzed, and that detections were successively converted to tracklets using \"deeplabcut.convert_detections2tracklets()\" and \"deeplabcut.stitch_tracklets()\".\n"
          ]
        }
      ],
      "source": [
        "#numAnimals = 1 #how many animals do you expect to find?\n",
        "tracktype= 'box'\n",
        "shuffle = 1\n",
        "deeplabcut.plot_trajectories(path_config_file, videofile_path, videotype=VideoType, shuffle=shuffle, track_method=tracktype)"
      ]
    },
    {
      "cell_type": "markdown",
      "metadata": {
        "id": "pqaCw15v8EmB"
      },
      "source": [
        "Now you can look at the plot-poses file and check the \"plot-likelihood.png\" might want to change the \"p-cutoff\" in the config.yaml file so that you have only high confidnece points plotted in the video. i.e. ~0.8 or 0.9. The current default is 0.4."
      ]
    },
    {
      "cell_type": "code",
      "execution_count": null,
      "metadata": {
        "id": "6aDF7Q7KoEKE"
      },
      "outputs": [],
      "source": [
        "deeplabcut.create_labeled_video(path_config_file,\n",
        "                                videofile_path,\n",
        "                                shuffle=shuffle,\n",
        "                                color_by=\"individual\",\n",
        "                                videotype=VideoType,\n",
        "                                save_frames=False,\n",
        "                                filtered=True)"
      ]
    }
  ],
  "metadata": {
    "accelerator": "GPU",
    "colab": {
      "provenance": [],
      "gpuType": "T4"
    },
    "kernelspec": {
      "display_name": "Python 3",
      "name": "python3"
    },
    "language_info": {
      "codemirror_mode": {
        "name": "ipython",
        "version": 3
      },
      "file_extension": ".py",
      "mimetype": "text/x-python",
      "name": "python",
      "nbconvert_exporter": "python",
      "pygments_lexer": "ipython3",
      "version": "3.10.12"
    }
  },
  "nbformat": 4,
  "nbformat_minor": 0
}